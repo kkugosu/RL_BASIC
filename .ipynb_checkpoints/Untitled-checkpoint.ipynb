{
 "cells": [
  {
   "cell_type": "code",
   "execution_count": 47,
   "id": "4029e182",
   "metadata": {},
   "outputs": [],
   "source": [
    "import gym\n"
   ]
  },
  {
   "cell_type": "code",
   "execution_count": 48,
   "id": "93f5cccb",
   "metadata": {},
   "outputs": [
    {
     "name": "stdout",
     "output_type": "stream",
     "text": [
      "[[ 21]\n",
      " [ 24]\n",
      " [  5]\n",
      " [ 99]\n",
      " [123]\n",
      " [103]\n",
      " [ 30]\n",
      " [123]\n",
      " [  2]\n",
      " [120]\n",
      " [100]]\n",
      "0\n",
      "tensor([21], dtype=torch.int32)\n",
      "1\n",
      "tensor([24], dtype=torch.int32)\n",
      "2\n",
      "tensor([5], dtype=torch.int32)\n",
      "3\n",
      "tensor([99], dtype=torch.int32)\n",
      "4\n",
      "tensor([123], dtype=torch.int32)\n",
      "5\n",
      "tensor([103], dtype=torch.int32)\n",
      "6\n",
      "tensor([30], dtype=torch.int32)\n",
      "7\n",
      "tensor([123], dtype=torch.int32)\n",
      "8\n",
      "tensor([2], dtype=torch.int32)\n",
      "9\n",
      "tensor([120], dtype=torch.int32)\n",
      "10\n",
      "tensor([100], dtype=torch.int32)\n"
     ]
    }
   ],
   "source": [
    "a = np.random.randint( 125, size = (11,1))\n",
    "print (a)\n",
    "out = index2act(torch.tensor(a),11)"
   ]
  },
  {
   "cell_type": "code",
   "execution_count": 50,
   "id": "3d3cadc4",
   "metadata": {},
   "outputs": [
    {
     "data": {
      "text/plain": [
       "tensor([ 21,  24,   5,  99, 123, 103,  30, 123,   2, 120, 100])"
      ]
     },
     "execution_count": 50,
     "metadata": {},
     "output_type": "execute_result"
    }
   ],
   "source": [
    "act2index(out,11)"
   ]
  },
  {
   "cell_type": "code",
   "execution_count": 51,
   "id": "a87d14df",
   "metadata": {},
   "outputs": [],
   "source": [
    "a = np.random.randint( 125, size = (11,1))"
   ]
  },
  {
   "cell_type": "code",
   "execution_count": 55,
   "id": "6dd5a968",
   "metadata": {},
   "outputs": [
    {
     "data": {
      "text/plain": [
       "array([[ 9],\n",
       "       [21],\n",
       "       [21],\n",
       "       [ 9],\n",
       "       [ 4],\n",
       "       [21],\n",
       "       [37],\n",
       "       [ 2],\n",
       "       [ 3],\n",
       "       [22],\n",
       "       [ 5]], dtype=int32)"
      ]
     },
     "execution_count": 55,
     "metadata": {},
     "output_type": "execute_result"
    }
   ],
   "source": [
    "a//3"
   ]
  },
  {
   "cell_type": "code",
   "execution_count": 56,
   "id": "db2c9756",
   "metadata": {},
   "outputs": [
    {
     "data": {
      "text/plain": [
       "array([[ 9.66666667],\n",
       "       [21.33333333],\n",
       "       [21.66666667],\n",
       "       [ 9.66666667],\n",
       "       [ 4.33333333],\n",
       "       [21.        ],\n",
       "       [37.        ],\n",
       "       [ 2.66666667],\n",
       "       [ 3.        ],\n",
       "       [22.33333333],\n",
       "       [ 5.33333333]])"
      ]
     },
     "execution_count": 56,
     "metadata": {},
     "output_type": "execute_result"
    }
   ],
   "source": [
    "a/3"
   ]
  },
  {
   "cell_type": "code",
   "execution_count": null,
   "id": "3359752a",
   "metadata": {},
   "outputs": [],
   "source": []
  }
 ],
 "metadata": {
  "kernelspec": {
   "display_name": "Python 3 (ipykernel)",
   "language": "python",
   "name": "python3"
  },
  "language_info": {
   "codemirror_mode": {
    "name": "ipython",
    "version": 3
   },
   "file_extension": ".py",
   "mimetype": "text/x-python",
   "name": "python",
   "nbconvert_exporter": "python",
   "pygments_lexer": "ipython3",
   "version": "3.9.7"
  }
 },
 "nbformat": 4,
 "nbformat_minor": 5
}
