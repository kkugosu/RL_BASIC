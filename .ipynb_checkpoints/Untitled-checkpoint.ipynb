{
 "cells": [
  {
   "cell_type": "code",
   "execution_count": 1,
   "id": "168e1e10",
   "metadata": {},
   "outputs": [
    {
     "name": "stderr",
     "output_type": "stream",
     "text": [
      "/home/jongsu/anaconda3/lib/python3.9/site-packages/torchvision/io/image.py:11: UserWarning: Failed to load image Python extension: libtorch_cuda_cu.so: cannot open shared object file: No such file or directory\n",
      "  warn(f\"Failed to load image Python extension: {e}\")\n"
     ]
    }
   ],
   "source": [
    "import torch\n",
    "import random\n",
    "import numpy as np\n",
    "from NeuralNetwork import NN\n",
    "from control import BASE, policy\n",
    "from utils import converter\n",
    "from control import policy\n",
    "device = 'cuda' if torch.cuda.is_available() else 'cpu'\n",
    "import gym\n"
   ]
  },
  {
   "cell_type": "code",
   "execution_count": 2,
   "id": "acff5b18",
   "metadata": {},
   "outputs": [],
   "source": [
    "env = gym.make('CartPole-v1')"
   ]
  },
  {
   "cell_type": "code",
   "execution_count": null,
   "id": "f7d79a8f",
   "metadata": {},
   "outputs": [
    {
     "name": "stderr",
     "output_type": "stream",
     "text": [
      "Failed to establish dbus connection"
     ]
    }
   ],
   "source": [
    "n_p_o = env.reset()\n",
    "t = 0\n",
    "while t < 1000:\n",
    "    n_a = np.random.randint(2)\n",
    "    n_o, n_r, n_d, info = env.step(n_a)\n",
    "    env.render()\n",
    "    if n_d == 1:\n",
    "        env.reset()\n",
    "    t = t + 1"
   ]
  },
  {
   "cell_type": "code",
   "execution_count": 1,
   "id": "20478fc1",
   "metadata": {},
   "outputs": [
    {
     "data": {
      "text/plain": [
       "tensor([ 4.,  8., 18.])"
      ]
     },
     "execution_count": 1,
     "metadata": {},
     "output_type": "execute_result"
    }
   ],
   "source": [
    "import torch\n",
    "# Multiplication tensors element by element\n",
    "a  = torch.tensor([1.,2., 3.])\n",
    "b = torch.tensor([4., 4., 6.])\n",
    "a.mul(b)"
   ]
  },
  {
   "cell_type": "code",
   "execution_count": 2,
   "id": "0b770c5d",
   "metadata": {},
   "outputs": [
    {
     "data": {
      "text/plain": [
       "tensor([ 4.,  8., 18.])"
      ]
     },
     "execution_count": 2,
     "metadata": {},
     "output_type": "execute_result"
    }
   ],
   "source": [
    "a*b"
   ]
  },
  {
   "cell_type": "code",
   "execution_count": 13,
   "id": "01913c21",
   "metadata": {},
   "outputs": [
    {
     "data": {
      "text/plain": [
       "tensor([[4., 4., 6.]])"
      ]
     },
     "execution_count": 13,
     "metadata": {},
     "output_type": "execute_result"
    }
   ],
   "source": [
    "torch.transpose(b.unsqueeze(-1),0,1)"
   ]
  },
  {
   "cell_type": "code",
   "execution_count": 15,
   "id": "b49ccea7",
   "metadata": {},
   "outputs": [],
   "source": [
    "b_ = b.unsqueeze(-1)"
   ]
  },
  {
   "cell_type": "code",
   "execution_count": 16,
   "id": "2c66d9ab",
   "metadata": {},
   "outputs": [],
   "source": [
    "a_ = a.unsqueeze(0)"
   ]
  },
  {
   "cell_type": "code",
   "execution_count": 17,
   "id": "fa82baa3",
   "metadata": {},
   "outputs": [
    {
     "data": {
      "text/plain": [
       "tensor([[ 4.,  8., 12.],\n",
       "        [ 4.,  8., 12.],\n",
       "        [ 6., 12., 18.]])"
      ]
     },
     "execution_count": 17,
     "metadata": {},
     "output_type": "execute_result"
    }
   ],
   "source": [
    "b_*a_"
   ]
  },
  {
   "cell_type": "code",
   "execution_count": null,
   "id": "11a26546",
   "metadata": {},
   "outputs": [],
   "source": [
    "import random\n",
    "import numpy as np\n",
    "\n",
    "\n",
    "class Converter:\n",
    "    def __init__(self, envname):\n",
    "        self.envname = envname\n",
    "\n",
    "    def index2act(self, _input, batch):\n",
    "        if self.envname == \"hope\":\n",
    "            if batch == 1:\n",
    "                first_action = (_input % 5 / 2) - 1\n",
    "                sec_action = ((_input % 25 - _input % 5) / 10) - 1\n",
    "                third_action = ((_input - _input % 25) / 50) - 1\n",
    "                out = np.array([first_action, sec_action, third_action])\n",
    "            else:\n",
    "                i = 0\n",
    "                out = np.zeros((batch, 3))\n",
    "                while i < batch:\n",
    "                    first_action = (_input[i] % 5 / 2) - 1\n",
    "                    sec_action = ((_input[i] % 25 - _input[i] % 5) / 10) - 1\n",
    "                    third_action = ((_input[i] - _input[i] % 25) / 50) - 1\n",
    "                    out[i] = np.array([first_action, sec_action, third_action])\n",
    "                    i = i + 1\n",
    "            return out\n",
    "        elif self.envname == \"cart\":\n",
    "            return _input\n",
    "        else:\n",
    "            print(\"converter error\")\n",
    "\n",
    "    def act2index(self, _input, batch):\n",
    "        if self.envname == \"hope\":\n",
    "            if batch == 1:\n",
    "                _input = _input + 1\n",
    "                _input = _input * 2\n",
    "                out = _input[2] * 25 + _input[1] * 5 + _input[0]\n",
    "            else:\n",
    "                i = 0\n",
    "                out = np.zeros(batch)\n",
    "                while i < batch:\n",
    "                    _input[i] = _input[i] + 1\n",
    "                    _input[i] = _input[i] * 2\n",
    "                    out[i] = _input[i][2] * 25 + _input[i][1] * 5 + _input[i][0]\n",
    "                    i = i + 1\n",
    "            return out\n",
    "        elif self.envname == \"cart\":\n",
    "            return _input\n",
    "        else:\n",
    "            print(\"converter error\")\n",
    "\n",
    "    def rand_act(self):\n",
    "        if self.envname == \"hope\":\n",
    "            return (np.random.randint(5, size=3) - 2)/2\n",
    "        elif self.envname == \"cart\":\n",
    "            a = np.random.randint(2)\n",
    "            return np.int64(a)\n",
    "        else:\n",
    "            print(\"converter error\")\n",
    "\n",
    "\n",
    "\n",
    "\n"
   ]
  },
  {
   "cell_type": "code",
   "execution_count": 2,
   "id": "8943e8fa",
   "metadata": {},
   "outputs": [],
   "source": [
    "import numpy as np\n",
    "import torch\n",
    "out = np.zeros((100, 3))"
   ]
  },
  {
   "cell_type": "code",
   "execution_count": 4,
   "id": "c7947793",
   "metadata": {},
   "outputs": [],
   "source": [
    "out = torch.zeros((100,3))"
   ]
  },
  {
   "cell_type": "code",
   "execution_count": 5,
   "id": "59b7f60b",
   "metadata": {},
   "outputs": [
    {
     "data": {
      "text/plain": [
       "tensor([[0., 0., 0.],\n",
       "        [0., 0., 0.],\n",
       "        [0., 0., 0.],\n",
       "        [0., 0., 0.],\n",
       "        [0., 0., 0.],\n",
       "        [0., 0., 0.],\n",
       "        [0., 0., 0.],\n",
       "        [0., 0., 0.],\n",
       "        [0., 0., 0.],\n",
       "        [0., 0., 0.],\n",
       "        [0., 0., 0.],\n",
       "        [0., 0., 0.],\n",
       "        [0., 0., 0.],\n",
       "        [0., 0., 0.],\n",
       "        [0., 0., 0.],\n",
       "        [0., 0., 0.],\n",
       "        [0., 0., 0.],\n",
       "        [0., 0., 0.],\n",
       "        [0., 0., 0.],\n",
       "        [0., 0., 0.],\n",
       "        [0., 0., 0.],\n",
       "        [0., 0., 0.],\n",
       "        [0., 0., 0.],\n",
       "        [0., 0., 0.],\n",
       "        [0., 0., 0.],\n",
       "        [0., 0., 0.],\n",
       "        [0., 0., 0.],\n",
       "        [0., 0., 0.],\n",
       "        [0., 0., 0.],\n",
       "        [0., 0., 0.],\n",
       "        [0., 0., 0.],\n",
       "        [0., 0., 0.],\n",
       "        [0., 0., 0.],\n",
       "        [0., 0., 0.],\n",
       "        [0., 0., 0.],\n",
       "        [0., 0., 0.],\n",
       "        [0., 0., 0.],\n",
       "        [0., 0., 0.],\n",
       "        [0., 0., 0.],\n",
       "        [0., 0., 0.],\n",
       "        [0., 0., 0.],\n",
       "        [0., 0., 0.],\n",
       "        [0., 0., 0.],\n",
       "        [0., 0., 0.],\n",
       "        [0., 0., 0.],\n",
       "        [0., 0., 0.],\n",
       "        [0., 0., 0.],\n",
       "        [0., 0., 0.],\n",
       "        [0., 0., 0.],\n",
       "        [0., 0., 0.],\n",
       "        [0., 0., 0.],\n",
       "        [0., 0., 0.],\n",
       "        [0., 0., 0.],\n",
       "        [0., 0., 0.],\n",
       "        [0., 0., 0.],\n",
       "        [0., 0., 0.],\n",
       "        [0., 0., 0.],\n",
       "        [0., 0., 0.],\n",
       "        [0., 0., 0.],\n",
       "        [0., 0., 0.],\n",
       "        [0., 0., 0.],\n",
       "        [0., 0., 0.],\n",
       "        [0., 0., 0.],\n",
       "        [0., 0., 0.],\n",
       "        [0., 0., 0.],\n",
       "        [0., 0., 0.],\n",
       "        [0., 0., 0.],\n",
       "        [0., 0., 0.],\n",
       "        [0., 0., 0.],\n",
       "        [0., 0., 0.],\n",
       "        [0., 0., 0.],\n",
       "        [0., 0., 0.],\n",
       "        [0., 0., 0.],\n",
       "        [0., 0., 0.],\n",
       "        [0., 0., 0.],\n",
       "        [0., 0., 0.],\n",
       "        [0., 0., 0.],\n",
       "        [0., 0., 0.],\n",
       "        [0., 0., 0.],\n",
       "        [0., 0., 0.],\n",
       "        [0., 0., 0.],\n",
       "        [0., 0., 0.],\n",
       "        [0., 0., 0.],\n",
       "        [0., 0., 0.],\n",
       "        [0., 0., 0.],\n",
       "        [0., 0., 0.],\n",
       "        [0., 0., 0.],\n",
       "        [0., 0., 0.],\n",
       "        [0., 0., 0.],\n",
       "        [0., 0., 0.],\n",
       "        [0., 0., 0.],\n",
       "        [0., 0., 0.],\n",
       "        [0., 0., 0.],\n",
       "        [0., 0., 0.],\n",
       "        [0., 0., 0.],\n",
       "        [0., 0., 0.],\n",
       "        [0., 0., 0.],\n",
       "        [0., 0., 0.],\n",
       "        [0., 0., 0.],\n",
       "        [0., 0., 0.]])"
      ]
     },
     "execution_count": 5,
     "metadata": {},
     "output_type": "execute_result"
    }
   ],
   "source": [
    "out"
   ]
  },
  {
   "cell_type": "code",
   "execution_count": null,
   "id": "7a4b6765",
   "metadata": {},
   "outputs": [],
   "source": []
  }
 ],
 "metadata": {
  "kernelspec": {
   "display_name": "Python 3 (ipykernel)",
   "language": "python",
   "name": "python3"
  },
  "language_info": {
   "codemirror_mode": {
    "name": "ipython",
    "version": 3
   },
   "file_extension": ".py",
   "mimetype": "text/x-python",
   "name": "python",
   "nbconvert_exporter": "python",
   "pygments_lexer": "ipython3",
   "version": "3.9.12"
  }
 },
 "nbformat": 4,
 "nbformat_minor": 5
}
