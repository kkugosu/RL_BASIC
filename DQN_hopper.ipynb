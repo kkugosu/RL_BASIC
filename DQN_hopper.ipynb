{
 "cells": [
  {
   "cell_type": "code",
   "execution_count": 1,
   "metadata": {},
   "outputs": [],
   "source": [
    "import gym\n",
    "import torch\n",
    "import numpy as np\n",
    "import sys\n",
    "from torch.utils.data import Dataset\n",
    "from torchvision.transforms import ToTensor, Lambda\n",
    "from torch.utils.data import DataLoader\n",
    "from torch import nn\n",
    "from collections import namedtuple, deque\n",
    "\n",
    "import random\n",
    "import torch.onnx as onnx\n",
    "from torch.utils.tensorboard import SummaryWriter\n",
    "writer = SummaryWriter('RLresult/hopper/dqn')\n",
    "device = 'cuda' if torch.cuda.is_available() else 'cpu'\n"
   ]
  },
  {
   "cell_type": "code",
   "execution_count": 2,
   "metadata": {},
   "outputs": [
    {
     "name": "stdout",
     "output_type": "stream",
     "text": [
      "Box([-1. -1. -1.], [1. 1. 1.], (3,), float32)\n",
      "Box([-inf -inf -inf -inf -inf -inf -inf -inf -inf -inf -inf], [inf inf inf inf inf inf inf inf inf inf inf], (11,), float64)\n"
     ]
    }
   ],
   "source": [
    "env = gym.make('Hopper-v2') \n",
    "print(env.action_space)\n",
    "print(env.observation_space)"
   ]
  },
  {
   "cell_type": "code",
   "execution_count": 3,
   "metadata": {},
   "outputs": [],
   "source": [
    "Transition = namedtuple('Transition',\n",
    "                        ('state', 'action', 'next_state', 'reward'))\n",
    "\n",
    "\n",
    "HIDDEN_SIZE = 32\n",
    "BATCH_SIZE = 10000\n",
    "learning_rate = 0.01\n",
    "HOP_ACTION = 125\n",
    "CAPACITY = 10000\n",
    "TRAIN_ITER = CAPACITY*10/BATCH_SIZE\n",
    "PARAM_PATH = 'DQN_param/hopperDQN.pth'\n",
    "PARAM_PATH_TEST = 'DQN_param/hopperDQN_test.pth'\n",
    "#print(Transition(2,1,2,3))\n",
    "#Transition(state=2, action=1, next_state=2, reward=3)\n",
    "\n",
    "class envdata(Dataset):\n",
    "    \n",
    "    def __init__(self, capacity):\n",
    "        self.memory = deque([],maxlen=capacity)\n",
    "        \n",
    "    def __getitem__(self, idx):\n",
    "        return self.memory[idx]\n",
    "        \n",
    "    def __len__(self):\n",
    "        return len(self.memory)\n",
    "    \n",
    "    def push(self, *args):\n",
    "        self.memory.append(Transition(*args))\n",
    "        "
   ]
  },
  {
   "cell_type": "code",
   "execution_count": 4,
   "metadata": {},
   "outputs": [],
   "source": [
    "class DQN(nn.Module):\n",
    "    \n",
    "    def __init__(self, input_size, hidden_size):\n",
    "        super(DQN, self).__init__()\n",
    "        #self.flatten = nn.Flatten()\n",
    "        self.linear_relu_stack = nn.Sequential(\n",
    "            nn.Linear(input_size, hidden_size),\n",
    "            nn.ReLU(),\n",
    "            nn.Linear(hidden_size, hidden_size),\n",
    "            nn.ReLU(),\n",
    "            nn.Linear(hidden_size, HOP_ACTION),\n",
    "            nn.ReLU()\n",
    "        )\n",
    "\n",
    "        \n",
    "    def forward(self, input):\n",
    "        output = self.linear_relu_stack(input)\n",
    "        return output"
   ]
  },
  {
   "cell_type": "code",
   "execution_count": 5,
   "metadata": {},
   "outputs": [],
   "source": [
    "class custom_dataloder():\n",
    "    \n",
    "    def __init__(self, dataset, batch_size) :\n",
    "        self.dataset = dataset\n",
    "        self.batch_size = batch_size\n",
    "        self.num_category = len(self.dataset[0])\n",
    "        \n",
    "    def __iter__(self) :\n",
    "        return self         \n",
    "\n",
    "    def __next__(self) :\n",
    "        index = random.sample(list(range(len(self.dataset))),self.batch_size)\n",
    "        \n",
    "        batchdata = np.array(self.dataset[index[0]], dtype=np.object)\n",
    "        cnum = 0\n",
    "        while(cnum < self.num_category):\n",
    "            i = 0\n",
    "            i = i + 1\n",
    "            batchdata[cnum] = np.array([batchdata[cnum]])\n",
    "            while(i < self.batch_size):\n",
    "                added_data = np.array([self.dataset[index[i]][cnum]])\n",
    "                batchdata[cnum] = np.concatenate((batchdata[cnum], added_data), axis = 0)\n",
    "                i = i + 1\n",
    "            cnum = cnum + 1\n",
    "            \n",
    "        return batchdata                  \n",
    "        "
   ]
  },
  {
   "cell_type": "code",
   "execution_count": 6,
   "metadata": {},
   "outputs": [],
   "source": [
    "def output_to_action(_input, batch):\n",
    "    \n",
    "    if batch == 1:\n",
    "        first_action = (_input%5/2) -1\n",
    "        sec_action = ((_input%25 - _input%5)/10) -1\n",
    "        third_action = ((_input - _input%25)/50) -1\n",
    "        out = np.array([first_action, sec_action, third_action])\n",
    "        \n",
    "    \n",
    "    else:\n",
    "        i = 0\n",
    "        out = np.zeros((batch,3))\n",
    "        while(i < batch):\n",
    "            # print(outputnum_to_3array(84)) = [ 1.  -0.5  0.5]\n",
    "            first_action = (_input[i]%5/2) -1\n",
    "            sec_action = ((_input[i]%25 - _input[i]%5)/10) -1\n",
    "            third_action = ((_input[i] - _input[i]%25)/50) -1\n",
    "            out[i] = np.array([first_action, sec_action, third_action])\n",
    "            i = i + 1\n",
    "    \n",
    "    return out\n",
    "\n",
    "def action_to_output(_input, batch):\n",
    "    \n",
    "    if batch == 1:\n",
    "        _input = _input + 1\n",
    "        _input = _input*2\n",
    "        out = _input[2]*25 + _input[1]*5 + _input[0]\n",
    "    \n",
    "    else:    \n",
    "        i = 0\n",
    "        out = np.zeros(batch)\n",
    "        while(i < batch):\n",
    "            _input[i] = _input[i] + 1\n",
    "            _input[i] = _input[i]*2\n",
    "            out[i] = _input[i][2]*25 + _input[i][1]*5 + _input[i][0]\n",
    "            \n",
    "            i = i + 1\n",
    "    return out\n",
    "\n",
    "def select_random_action():\n",
    "    return np.random.randint(5, size=3)"
   ]
  },
  {
   "cell_type": "code",
   "execution_count": 7,
   "metadata": {},
   "outputs": [],
   "source": [
    "def renewal_memory(renewal_capacity, rendering):\n",
    "    \n",
    "    total_num = 0\n",
    "    pause = 0\n",
    "    \n",
    "    while(total_num < renewal_capacity - pause):\n",
    "        pre_observation = env.reset()\n",
    "        pre_observation = torch.tensor(pre_observation, device = device, dtype=torch.float32)\n",
    "        t = 0\n",
    "        \n",
    "        while(t < renewal_capacity - total_num):\n",
    "            t = t + 1\n",
    "            if (rendering == False and random.random()) < 0.1:\n",
    "                action = (select_random_action()/2)-1\n",
    "            else:\n",
    "                with torch.no_grad():\n",
    "                    baseDQN_action = baseDQN(pre_observation)\n",
    "                \n",
    "                max_action = np.argmax(baseDQN_action.cpu().numpy())\n",
    "                action = output_to_action(max_action, 1)\n",
    "            observation, reward, done, info = env.step(action)\n",
    "            myhopdata.push(pre_observation, action, observation, reward -np.float32(done))\n",
    "            pre_observation = torch.tensor(observation, device = device, dtype=torch.float32)\n",
    "            if done:\n",
    "                #print(\"Episode finished after {} timesteps\".format(t+1))\n",
    "                #env.render()\n",
    "                total_num += t\n",
    "                t = 0\n",
    "                break\n",
    "                \n",
    "        pause = t\n",
    "    \n",
    "    #print(\"load_memory_complete\")\n",
    "    return 0"
   ]
  },
  {
   "cell_type": "code",
   "execution_count": 8,
   "metadata": {},
   "outputs": [],
   "source": [
    "def training(iteration):\n",
    "    GAMMA = 0.999\n",
    "    i = 0\n",
    "    while(i < iteration):\n",
    "        \n",
    "        #print(i)\n",
    "        pre_observation, action, observation, reward = next(iter(dqn_dataloader))\n",
    "        \n",
    "        action_idx = action_to_output(action, BATCH_SIZE).astype(np.int64)\n",
    "        action_idx = torch.from_numpy(action_idx).to(device).unsqueeze(axis=-1)\n",
    "        \n",
    "        state_action_values = torch.gather(updatedDQN(pre_observation), 1, action_idx )\n",
    "        \n",
    "        obs_to_cuda = torch.tensor(observation, dtype=torch.float32).to(device)\n",
    "        reward_to_cuda = torch.tensor(reward, dtype=torch.float32).to(device)\n",
    "        \n",
    "        with torch.no_grad():\n",
    "            nextobs = baseDQN(obs_to_cuda)\n",
    "            expected_state_action_values = GAMMA*torch.argmax(nextobs, dim = 1) + reward_to_cuda\n",
    "            \n",
    "        criterion = nn.MSELoss()\n",
    "        loss = criterion(state_action_values, expected_state_action_values.unsqueeze(axis=-1))\n",
    "        \n",
    "        optimizer.zero_grad()\n",
    "        loss.backward() \n",
    "        for param in updatedDQN.parameters():\n",
    "            param.grad.data.clamp_(-1, 1)\n",
    "        optimizer.step()\n",
    "        \n",
    "        #for p in updatedDQN.parameters(): \n",
    "        #    print(\"params = \", p.grad)\n",
    "        i = i + 1\n",
    "    \n",
    "    print(\"loss = \",loss)\n",
    "    #print(\"train complete iter = \", iteration)\n",
    "    return loss"
   ]
  },
  {
   "cell_type": "code",
   "execution_count": 16,
   "metadata": {},
   "outputs": [
    {
     "name": "stderr",
     "output_type": "stream",
     "text": [
      "/root/anaconda3/lib/python3.6/site-packages/ipykernel_launcher.py:14: UserWarning: To copy construct from a tensor, it is recommended to use sourceTensor.clone().detach() or sourceTensor.clone().detach().requires_grad_(True), rather than torch.tensor(sourceTensor).\n",
      "  \n",
      "/root/anaconda3/lib/python3.6/site-packages/ipykernel_launcher.py:15: UserWarning: To copy construct from a tensor, it is recommended to use sourceTensor.clone().detach() or sourceTensor.clone().detach().requires_grad_(True), rather than torch.tensor(sourceTensor).\n",
      "  from ipykernel import kernelapp as app\n"
     ]
    },
    {
     "name": "stdout",
     "output_type": "stream",
     "text": [
      "loss =  tensor(1165896.3750, device='cuda:0', grad_fn=<MseLossBackward>)\n",
      "loss =  tensor(178925.9375, device='cuda:0', grad_fn=<MseLossBackward>)\n",
      "loss =  tensor(32147.1152, device='cuda:0', grad_fn=<MseLossBackward>)\n",
      "loss =  tensor(24535.7793, device='cuda:0', grad_fn=<MseLossBackward>)\n",
      "loss =  tensor(24160.0898, device='cuda:0', grad_fn=<MseLossBackward>)\n",
      "loss =  tensor(24238.2773, device='cuda:0', grad_fn=<MseLossBackward>)\n",
      "loss =  tensor(24101.2734, device='cuda:0', grad_fn=<MseLossBackward>)\n",
      "loss =  tensor(24090.2559, device='cuda:0', grad_fn=<MseLossBackward>)\n",
      "loss =  tensor(24030.8535, device='cuda:0', grad_fn=<MseLossBackward>)\n",
      "loss =  tensor(24724.3574, device='cuda:0', grad_fn=<MseLossBackward>)\n",
      "loss =  tensor(23868.5820, device='cuda:0', grad_fn=<MseLossBackward>)\n",
      "loss =  tensor(23921.8750, device='cuda:0', grad_fn=<MseLossBackward>)\n",
      "loss =  tensor(23947.4082, device='cuda:0', grad_fn=<MseLossBackward>)\n"
     ]
    },
    {
     "ename": "KeyboardInterrupt",
     "evalue": "",
     "output_type": "error",
     "traceback": [
      "\u001b[0;31m---------------------------------------------------------------------------\u001b[0m",
      "\u001b[0;31mKeyboardInterrupt\u001b[0m                         Traceback (most recent call last)",
      "\u001b[0;32m<timed exec>\u001b[0m in \u001b[0;36m<module>\u001b[0;34m()\u001b[0m\n",
      "\u001b[0;32m<ipython-input-8-245aa84b98dd>\u001b[0m in \u001b[0;36mtraining\u001b[0;34m(iteration)\u001b[0m\n\u001b[1;32m      7\u001b[0m         \u001b[0mpre_observation\u001b[0m\u001b[0;34m,\u001b[0m \u001b[0maction\u001b[0m\u001b[0;34m,\u001b[0m \u001b[0mobservation\u001b[0m\u001b[0;34m,\u001b[0m \u001b[0mreward\u001b[0m \u001b[0;34m=\u001b[0m \u001b[0mnext\u001b[0m\u001b[0;34m(\u001b[0m\u001b[0miter\u001b[0m\u001b[0;34m(\u001b[0m\u001b[0mdqn_dataloader\u001b[0m\u001b[0;34m)\u001b[0m\u001b[0;34m)\u001b[0m\u001b[0;34m\u001b[0m\u001b[0;34m\u001b[0m\u001b[0m\n\u001b[1;32m      8\u001b[0m \u001b[0;34m\u001b[0m\u001b[0m\n\u001b[0;32m----> 9\u001b[0;31m         \u001b[0maction_idx\u001b[0m \u001b[0;34m=\u001b[0m \u001b[0maction_to_output\u001b[0m\u001b[0;34m(\u001b[0m\u001b[0maction\u001b[0m\u001b[0;34m,\u001b[0m \u001b[0mBATCH_SIZE\u001b[0m\u001b[0;34m)\u001b[0m\u001b[0;34m.\u001b[0m\u001b[0mastype\u001b[0m\u001b[0;34m(\u001b[0m\u001b[0mnp\u001b[0m\u001b[0;34m.\u001b[0m\u001b[0mint64\u001b[0m\u001b[0;34m)\u001b[0m\u001b[0;34m\u001b[0m\u001b[0;34m\u001b[0m\u001b[0m\n\u001b[0m\u001b[1;32m     10\u001b[0m         \u001b[0maction_idx\u001b[0m \u001b[0;34m=\u001b[0m \u001b[0mtorch\u001b[0m\u001b[0;34m.\u001b[0m\u001b[0mfrom_numpy\u001b[0m\u001b[0;34m(\u001b[0m\u001b[0maction_idx\u001b[0m\u001b[0;34m)\u001b[0m\u001b[0;34m.\u001b[0m\u001b[0mto\u001b[0m\u001b[0;34m(\u001b[0m\u001b[0mdevice\u001b[0m\u001b[0;34m)\u001b[0m\u001b[0;34m.\u001b[0m\u001b[0munsqueeze\u001b[0m\u001b[0;34m(\u001b[0m\u001b[0maxis\u001b[0m\u001b[0;34m=\u001b[0m\u001b[0;34m-\u001b[0m\u001b[0;36m1\u001b[0m\u001b[0;34m)\u001b[0m\u001b[0;34m\u001b[0m\u001b[0;34m\u001b[0m\u001b[0m\n\u001b[1;32m     11\u001b[0m \u001b[0;34m\u001b[0m\u001b[0m\n",
      "\u001b[0;32m<ipython-input-6-dec741d37d67>\u001b[0m in \u001b[0;36maction_to_output\u001b[0;34m(_input, batch)\u001b[0m\n\u001b[1;32m     34\u001b[0m             \u001b[0m_input\u001b[0m\u001b[0;34m[\u001b[0m\u001b[0mi\u001b[0m\u001b[0;34m]\u001b[0m \u001b[0;34m=\u001b[0m \u001b[0m_input\u001b[0m\u001b[0;34m[\u001b[0m\u001b[0mi\u001b[0m\u001b[0;34m]\u001b[0m \u001b[0;34m+\u001b[0m \u001b[0;36m1\u001b[0m\u001b[0;34m\u001b[0m\u001b[0;34m\u001b[0m\u001b[0m\n\u001b[1;32m     35\u001b[0m             \u001b[0m_input\u001b[0m\u001b[0;34m[\u001b[0m\u001b[0mi\u001b[0m\u001b[0;34m]\u001b[0m \u001b[0;34m=\u001b[0m \u001b[0m_input\u001b[0m\u001b[0;34m[\u001b[0m\u001b[0mi\u001b[0m\u001b[0;34m]\u001b[0m\u001b[0;34m*\u001b[0m\u001b[0;36m2\u001b[0m\u001b[0;34m\u001b[0m\u001b[0;34m\u001b[0m\u001b[0m\n\u001b[0;32m---> 36\u001b[0;31m             \u001b[0mout\u001b[0m\u001b[0;34m[\u001b[0m\u001b[0mi\u001b[0m\u001b[0;34m]\u001b[0m \u001b[0;34m=\u001b[0m \u001b[0m_input\u001b[0m\u001b[0;34m[\u001b[0m\u001b[0mi\u001b[0m\u001b[0;34m]\u001b[0m\u001b[0;34m[\u001b[0m\u001b[0;36m2\u001b[0m\u001b[0;34m]\u001b[0m\u001b[0;34m*\u001b[0m\u001b[0;36m25\u001b[0m \u001b[0;34m+\u001b[0m \u001b[0m_input\u001b[0m\u001b[0;34m[\u001b[0m\u001b[0mi\u001b[0m\u001b[0;34m]\u001b[0m\u001b[0;34m[\u001b[0m\u001b[0;36m1\u001b[0m\u001b[0;34m]\u001b[0m\u001b[0;34m*\u001b[0m\u001b[0;36m5\u001b[0m \u001b[0;34m+\u001b[0m \u001b[0m_input\u001b[0m\u001b[0;34m[\u001b[0m\u001b[0mi\u001b[0m\u001b[0;34m]\u001b[0m\u001b[0;34m[\u001b[0m\u001b[0;36m0\u001b[0m\u001b[0;34m]\u001b[0m\u001b[0;34m\u001b[0m\u001b[0;34m\u001b[0m\u001b[0m\n\u001b[0m\u001b[1;32m     37\u001b[0m \u001b[0;34m\u001b[0m\u001b[0m\n\u001b[1;32m     38\u001b[0m             \u001b[0mi\u001b[0m \u001b[0;34m=\u001b[0m \u001b[0mi\u001b[0m \u001b[0;34m+\u001b[0m \u001b[0;36m1\u001b[0m\u001b[0;34m\u001b[0m\u001b[0;34m\u001b[0m\u001b[0m\n",
      "\u001b[0;31mKeyboardInterrupt\u001b[0m: "
     ]
    }
   ],
   "source": [
    "%%time\n",
    "\n",
    "myhopdata = envdata(capacity = CAPACITY)\n",
    "\n",
    "#dqn_dataloader = DataLoader(myhopdata, batch_size=64, shuffle=True)\n",
    "\n",
    "input_state_size = len(env.observation_space.sample())\n",
    "\n",
    "\n",
    "updatedDQN = DQN(input_state_size,HIDDEN_SIZE).to(device)\n",
    "updatedDQN.load_state_dict(torch.load(PARAM_PATH))\n",
    "optimizer = torch.optim.SGD(updatedDQN.parameters(), lr=learning_rate)\n",
    "\n",
    "baseDQN = DQN(input_state_size,HIDDEN_SIZE).to(device)\n",
    "baseDQN.load_state_dict(updatedDQN.state_dict())\n",
    "baseDQN.eval()\n",
    "\n",
    "dqn_dataloader = DataLoader(myhopdata, batch_size=BATCH_SIZE, shuffle=False)\n",
    "#len(env.observation_space.sample())\n",
    "\n",
    "train_iter = 100\n",
    "i = 0\n",
    "#for p in updatedDQN.parameters(): \n",
    "#    print(p)\n",
    "\n",
    "while(i < train_iter):\n",
    "    i = i + 1\n",
    "    renewal_memory(CAPACITY, rendering = False)\n",
    "    loss = training(TRAIN_ITER)\n",
    "    writer.add_scalar(\"loss\", loss, i)\n",
    "    torch.save(updatedDQN.state_dict(), PARAM_PATH)\n",
    "    baseDQN.load_state_dict(updatedDQN.state_dict())\n",
    "    baseDQN.eval()\n",
    "\n",
    "env.close()\n"
   ]
  },
  {
   "cell_type": "code",
   "execution_count": 10,
   "metadata": {},
   "outputs": [],
   "source": [
    "#writer.add_graph(updatedDQN, myhopdata[0][0])\n",
    "#writer.add_graph(baseDQN, myhopdata[0][0])\n"
   ]
  },
  {
   "cell_type": "code",
   "execution_count": 11,
   "metadata": {},
   "outputs": [],
   "source": [
    "writer.flush()\n",
    "writer.close()"
   ]
  },
  {
   "cell_type": "code",
   "execution_count": 12,
   "metadata": {},
   "outputs": [
    {
     "data": {
      "text/plain": [
       "\"\\nprint(env.unwrapped.sim.model.get_joint_qpos_addr('root'))\\nprint(env.unwrapped.sim.model.get_joint_qpos_addr('hip_1'))\\nprint(env.unwrapped.sim.model.get_joint_qpos_addr('hip_2'))\\nprint(env.unwrapped.sim.model.get_joint_qpos_addr('hip_3'))\\nprint(env.unwrapped.sim.model.get_joint_qpos_addr('hip_4'))\\nprint(env.unwrapped.sim.model.get_joint_qpos_addr('ankle_1'))\\nprint(env.unwrapped.sim.model.get_joint_qpos_addr('ankle_2'))\\nprint(env.unwrapped.sim.model.get_joint_qpos_addr('ankle_3'))\\nprint(env.unwrapped.sim.model.get_joint_qpos_addr('ankle_4'))\\n#if u enter <body> in addr then this will show you available list\\n#('root', 'hip_1', 'ankle_1', 'hip_2', 'ankle_2', 'hip_3', 'ankle_3', 'hip_4', 'ankle_4')\\n#qpos is front value index\\n\""
      ]
     },
     "execution_count": 12,
     "metadata": {},
     "output_type": "execute_result"
    }
   ],
   "source": [
    "'''\n",
    "print(env.unwrapped.sim.model.get_joint_qpos_addr('root'))\n",
    "print(env.unwrapped.sim.model.get_joint_qpos_addr('hip_1'))\n",
    "print(env.unwrapped.sim.model.get_joint_qpos_addr('hip_2'))\n",
    "print(env.unwrapped.sim.model.get_joint_qpos_addr('hip_3'))\n",
    "print(env.unwrapped.sim.model.get_joint_qpos_addr('hip_4'))\n",
    "print(env.unwrapped.sim.model.get_joint_qpos_addr('ankle_1'))\n",
    "print(env.unwrapped.sim.model.get_joint_qpos_addr('ankle_2'))\n",
    "print(env.unwrapped.sim.model.get_joint_qpos_addr('ankle_3'))\n",
    "print(env.unwrapped.sim.model.get_joint_qpos_addr('ankle_4'))\n",
    "#if u enter <body> in addr then this will show you available list\n",
    "#('root', 'hip_1', 'ankle_1', 'hip_2', 'ankle_2', 'hip_3', 'ankle_3', 'hip_4', 'ankle_4')\n",
    "#qpos is front value index\n",
    "'''\n"
   ]
  },
  {
   "cell_type": "code",
   "execution_count": 13,
   "metadata": {},
   "outputs": [],
   "source": [
    "target = torch.empty(3, dtype=torch.long).random_(5)"
   ]
  },
  {
   "cell_type": "code",
   "execution_count": 14,
   "metadata": {},
   "outputs": [
    {
     "data": {
      "text/plain": [
       "tensor([1, 4, 1])"
      ]
     },
     "execution_count": 14,
     "metadata": {},
     "output_type": "execute_result"
    }
   ],
   "source": [
    "target"
   ]
  },
  {
   "cell_type": "code",
   "execution_count": 15,
   "metadata": {},
   "outputs": [],
   "source": [
    "input = torch.randn(3, 5, requires_grad=True)"
   ]
  },
  {
   "cell_type": "code",
   "execution_count": null,
   "metadata": {},
   "outputs": [],
   "source": []
  },
  {
   "cell_type": "code",
   "execution_count": null,
   "metadata": {},
   "outputs": [],
   "source": []
  }
 ],
 "metadata": {
  "kernelspec": {
   "display_name": "Python 3",
   "language": "python",
   "name": "python3"
  },
  "language_info": {
   "codemirror_mode": {
    "name": "ipython",
    "version": 3
   },
   "file_extension": ".py",
   "mimetype": "text/x-python",
   "name": "python",
   "nbconvert_exporter": "python",
   "pygments_lexer": "ipython3",
   "version": "3.6.13"
  }
 },
 "nbformat": 4,
 "nbformat_minor": 2
}
