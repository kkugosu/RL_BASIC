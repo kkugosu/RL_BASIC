{
 "cells": [
  {
   "cell_type": "code",
   "execution_count": 1,
   "metadata": {},
   "outputs": [],
   "source": [
    "import gym\n",
    "import torch\n",
    "import numpy as np\n",
    "import sys\n",
    "from torchvision.transforms import ToTensor, Lambda\n",
    "from torch import nn\n",
    "from my_model import DQN\n",
    "from utils import dataset, dataloader, buffer\n",
    "import trainer\n",
    "import random\n",
    "import torch.onnx as onnx\n",
    "from torch.utils.tensorboard import SummaryWriter\n",
    "writer = SummaryWriter('RLresult/hopper/dqn')\n",
    "device = 'cuda' if torch.cuda.is_available() else 'cpu'\n"
   ]
  },
  {
   "cell_type": "code",
   "execution_count": 2,
   "metadata": {},
   "outputs": [
    {
     "name": "stdout",
     "output_type": "stream",
     "text": [
      "Box([-1. -1. -1.], [1. 1. 1.], (3,), float32)\n",
      "Box([-inf -inf -inf -inf -inf -inf -inf -inf -inf -inf -inf], [inf inf inf inf inf inf inf inf inf inf inf], (11,), float64)\n"
     ]
    }
   ],
   "source": [
    "env = gym.make('Hopper-v2') \n",
    "print(env.action_space)\n",
    "print(env.observation_space)"
   ]
  },
  {
   "cell_type": "code",
   "execution_count": 3,
   "metadata": {},
   "outputs": [],
   "source": [
    "HIDDEN_SIZE = 32\n",
    "BATCH_SIZE = 10000\n",
    "learning_rate = 0.01\n",
    "HOP_ACTION = 125\n",
    "CAPACITY = 10000\n",
    "TRAIN_ITER = CAPACITY*10/BATCH_SIZE\n",
    "PARAM_PATH = 'DQN_param/hopperDQN.pth'\n",
    "PARAM_PATH_TEST = 'DQN_param/hopperDQN_test.pth'\n",
    "#print(Transition(2,1,2,3))\n",
    "#Transition(state=2, action=1, next_state=2, reward=3)\n",
    "\n"
   ]
  },
  {
   "cell_type": "code",
   "execution_count": 16,
   "metadata": {},
   "outputs": [
    {
     "name": "stderr",
     "output_type": "stream",
     "text": [
      "/root/anaconda3/lib/python3.6/site-packages/ipykernel_launcher.py:14: UserWarning: To copy construct from a tensor, it is recommended to use sourceTensor.clone().detach() or sourceTensor.clone().detach().requires_grad_(True), rather than torch.tensor(sourceTensor).\n",
      "  \n",
      "/root/anaconda3/lib/python3.6/site-packages/ipykernel_launcher.py:15: UserWarning: To copy construct from a tensor, it is recommended to use sourceTensor.clone().detach() or sourceTensor.clone().detach().requires_grad_(True), rather than torch.tensor(sourceTensor).\n",
      "  from ipykernel import kernelapp as app\n"
     ]
    },
    {
     "name": "stdout",
     "output_type": "stream",
     "text": [
      "loss =  tensor(1165896.3750, device='cuda:0', grad_fn=<MseLossBackward>)\n",
      "loss =  tensor(178925.9375, device='cuda:0', grad_fn=<MseLossBackward>)\n",
      "loss =  tensor(32147.1152, device='cuda:0', grad_fn=<MseLossBackward>)\n",
      "loss =  tensor(24535.7793, device='cuda:0', grad_fn=<MseLossBackward>)\n",
      "loss =  tensor(24160.0898, device='cuda:0', grad_fn=<MseLossBackward>)\n",
      "loss =  tensor(24238.2773, device='cuda:0', grad_fn=<MseLossBackward>)\n",
      "loss =  tensor(24101.2734, device='cuda:0', grad_fn=<MseLossBackward>)\n",
      "loss =  tensor(24090.2559, device='cuda:0', grad_fn=<MseLossBackward>)\n",
      "loss =  tensor(24030.8535, device='cuda:0', grad_fn=<MseLossBackward>)\n",
      "loss =  tensor(24724.3574, device='cuda:0', grad_fn=<MseLossBackward>)\n",
      "loss =  tensor(23868.5820, device='cuda:0', grad_fn=<MseLossBackward>)\n",
      "loss =  tensor(23921.8750, device='cuda:0', grad_fn=<MseLossBackward>)\n",
      "loss =  tensor(23947.4082, device='cuda:0', grad_fn=<MseLossBackward>)\n"
     ]
    },
    {
     "ename": "KeyboardInterrupt",
     "evalue": "",
     "output_type": "error",
     "traceback": [
      "\u001b[0;31m---------------------------------------------------------------------------\u001b[0m",
      "\u001b[0;31mKeyboardInterrupt\u001b[0m                         Traceback (most recent call last)",
      "\u001b[0;32m<timed exec>\u001b[0m in \u001b[0;36m<module>\u001b[0;34m()\u001b[0m\n",
      "\u001b[0;32m<ipython-input-8-245aa84b98dd>\u001b[0m in \u001b[0;36mtraining\u001b[0;34m(iteration)\u001b[0m\n\u001b[1;32m      7\u001b[0m         \u001b[0mpre_observation\u001b[0m\u001b[0;34m,\u001b[0m \u001b[0maction\u001b[0m\u001b[0;34m,\u001b[0m \u001b[0mobservation\u001b[0m\u001b[0;34m,\u001b[0m \u001b[0mreward\u001b[0m \u001b[0;34m=\u001b[0m \u001b[0mnext\u001b[0m\u001b[0;34m(\u001b[0m\u001b[0miter\u001b[0m\u001b[0;34m(\u001b[0m\u001b[0mdqn_dataloader\u001b[0m\u001b[0;34m)\u001b[0m\u001b[0;34m)\u001b[0m\u001b[0;34m\u001b[0m\u001b[0;34m\u001b[0m\u001b[0m\n\u001b[1;32m      8\u001b[0m \u001b[0;34m\u001b[0m\u001b[0m\n\u001b[0;32m----> 9\u001b[0;31m         \u001b[0maction_idx\u001b[0m \u001b[0;34m=\u001b[0m \u001b[0maction_to_output\u001b[0m\u001b[0;34m(\u001b[0m\u001b[0maction\u001b[0m\u001b[0;34m,\u001b[0m \u001b[0mBATCH_SIZE\u001b[0m\u001b[0;34m)\u001b[0m\u001b[0;34m.\u001b[0m\u001b[0mastype\u001b[0m\u001b[0;34m(\u001b[0m\u001b[0mnp\u001b[0m\u001b[0;34m.\u001b[0m\u001b[0mint64\u001b[0m\u001b[0;34m)\u001b[0m\u001b[0;34m\u001b[0m\u001b[0;34m\u001b[0m\u001b[0m\n\u001b[0m\u001b[1;32m     10\u001b[0m         \u001b[0maction_idx\u001b[0m \u001b[0;34m=\u001b[0m \u001b[0mtorch\u001b[0m\u001b[0;34m.\u001b[0m\u001b[0mfrom_numpy\u001b[0m\u001b[0;34m(\u001b[0m\u001b[0maction_idx\u001b[0m\u001b[0;34m)\u001b[0m\u001b[0;34m.\u001b[0m\u001b[0mto\u001b[0m\u001b[0;34m(\u001b[0m\u001b[0mdevice\u001b[0m\u001b[0;34m)\u001b[0m\u001b[0;34m.\u001b[0m\u001b[0munsqueeze\u001b[0m\u001b[0;34m(\u001b[0m\u001b[0maxis\u001b[0m\u001b[0;34m=\u001b[0m\u001b[0;34m-\u001b[0m\u001b[0;36m1\u001b[0m\u001b[0;34m)\u001b[0m\u001b[0;34m\u001b[0m\u001b[0;34m\u001b[0m\u001b[0m\n\u001b[1;32m     11\u001b[0m \u001b[0;34m\u001b[0m\u001b[0m\n",
      "\u001b[0;32m<ipython-input-6-dec741d37d67>\u001b[0m in \u001b[0;36maction_to_output\u001b[0;34m(_input, batch)\u001b[0m\n\u001b[1;32m     34\u001b[0m             \u001b[0m_input\u001b[0m\u001b[0;34m[\u001b[0m\u001b[0mi\u001b[0m\u001b[0;34m]\u001b[0m \u001b[0;34m=\u001b[0m \u001b[0m_input\u001b[0m\u001b[0;34m[\u001b[0m\u001b[0mi\u001b[0m\u001b[0;34m]\u001b[0m \u001b[0;34m+\u001b[0m \u001b[0;36m1\u001b[0m\u001b[0;34m\u001b[0m\u001b[0;34m\u001b[0m\u001b[0m\n\u001b[1;32m     35\u001b[0m             \u001b[0m_input\u001b[0m\u001b[0;34m[\u001b[0m\u001b[0mi\u001b[0m\u001b[0;34m]\u001b[0m \u001b[0;34m=\u001b[0m \u001b[0m_input\u001b[0m\u001b[0;34m[\u001b[0m\u001b[0mi\u001b[0m\u001b[0;34m]\u001b[0m\u001b[0;34m*\u001b[0m\u001b[0;36m2\u001b[0m\u001b[0;34m\u001b[0m\u001b[0;34m\u001b[0m\u001b[0m\n\u001b[0;32m---> 36\u001b[0;31m             \u001b[0mout\u001b[0m\u001b[0;34m[\u001b[0m\u001b[0mi\u001b[0m\u001b[0;34m]\u001b[0m \u001b[0;34m=\u001b[0m \u001b[0m_input\u001b[0m\u001b[0;34m[\u001b[0m\u001b[0mi\u001b[0m\u001b[0;34m]\u001b[0m\u001b[0;34m[\u001b[0m\u001b[0;36m2\u001b[0m\u001b[0;34m]\u001b[0m\u001b[0;34m*\u001b[0m\u001b[0;36m25\u001b[0m \u001b[0;34m+\u001b[0m \u001b[0m_input\u001b[0m\u001b[0;34m[\u001b[0m\u001b[0mi\u001b[0m\u001b[0;34m]\u001b[0m\u001b[0;34m[\u001b[0m\u001b[0;36m1\u001b[0m\u001b[0;34m]\u001b[0m\u001b[0;34m*\u001b[0m\u001b[0;36m5\u001b[0m \u001b[0;34m+\u001b[0m \u001b[0m_input\u001b[0m\u001b[0;34m[\u001b[0m\u001b[0mi\u001b[0m\u001b[0;34m]\u001b[0m\u001b[0;34m[\u001b[0m\u001b[0;36m0\u001b[0m\u001b[0;34m]\u001b[0m\u001b[0;34m\u001b[0m\u001b[0;34m\u001b[0m\u001b[0m\n\u001b[0m\u001b[1;32m     37\u001b[0m \u001b[0;34m\u001b[0m\u001b[0m\n\u001b[1;32m     38\u001b[0m             \u001b[0mi\u001b[0m \u001b[0;34m=\u001b[0m \u001b[0mi\u001b[0m \u001b[0;34m+\u001b[0m \u001b[0;36m1\u001b[0m\u001b[0;34m\u001b[0m\u001b[0;34m\u001b[0m\u001b[0m\n",
      "\u001b[0;31mKeyboardInterrupt\u001b[0m: "
     ]
    }
   ],
   "source": [
    "%%time\n",
    "\n",
    "myhopdata = datset.EnvData(capacity = CAPACITY)\n",
    "\n",
    "#dqn_dataloader = DataLoader(myhopdata, batch_size=64, shuffle=True)\n",
    "\n",
    "input_state_size = len(env.observation_space.sample())\n",
    "\n",
    "updatedDQN = DQN.DQN(input_state_size, HIDDEN_SIZE, CART_ACTION).to(device)\n",
    "baseDQN = DQN.DQN(input_state_size, HIDDEN_SIZE, CART_ACTION).to(device)\n",
    "mybuffer = buffer.ForwardMem(baseDQN, env, \"hope\")\n",
    "\n",
    "\n",
    "updatedDQN.load_state_dict(torch.load(PARAM_PATH))\n",
    "\n",
    "\n",
    "baseDQN.load_state_dict(updatedDQN.state_dict())\n",
    "baseDQN.eval()\n",
    "\n",
    "dqn_dataloader = dataloader.CustomDataLoader(myhopdata, batch_size=BATCH_SIZE)\n",
    "#len(env.observation_space.sample())\n",
    "optimizer = torch.optim.SGD(updatedDQN.parameters(), lr=learning_rate)\n",
    "mytrain = trainer.Train(\"hope\", dqn_dataloader, updatedDQN, baseDQN)\n",
    "\n",
    "train_iter = 100\n",
    "i = 0\n",
    "#for p in updatedDQN.parameters(): \n",
    "#    print(p)\n",
    "\n",
    "while(i < train_iter):\n",
    "    i = i + 1\n",
    "    renewal_memory(CAPACITY, rendering = False)\n",
    "    loss = mytrain.training(TRAIN_ITER, BATCH_SIZE, optimizer)\n",
    "    writer.add_scalar(\"loss\", loss, i)\n",
    "    torch.save(updatedDQN.state_dict(), PARAM_PATH)\n",
    "    baseDQN.load_state_dict(updatedDQN.state_dict())\n",
    "    baseDQN.eval()\n",
    "\n",
    "env.close()\n"
   ]
  },
  {
   "cell_type": "code",
   "execution_count": 10,
   "metadata": {},
   "outputs": [],
   "source": [
    "#writer.add_graph(updatedDQN, myhopdata[0][0])\n",
    "#writer.add_graph(baseDQN, myhopdata[0][0])\n"
   ]
  },
  {
   "cell_type": "code",
   "execution_count": 11,
   "metadata": {},
   "outputs": [],
   "source": [
    "writer.flush()\n",
    "writer.close()"
   ]
  },
  {
   "cell_type": "code",
   "execution_count": 12,
   "metadata": {},
   "outputs": [
    {
     "data": {
      "text/plain": [
       "\"\\nprint(env.unwrapped.sim.model.get_joint_qpos_addr('root'))\\nprint(env.unwrapped.sim.model.get_joint_qpos_addr('hip_1'))\\nprint(env.unwrapped.sim.model.get_joint_qpos_addr('hip_2'))\\nprint(env.unwrapped.sim.model.get_joint_qpos_addr('hip_3'))\\nprint(env.unwrapped.sim.model.get_joint_qpos_addr('hip_4'))\\nprint(env.unwrapped.sim.model.get_joint_qpos_addr('ankle_1'))\\nprint(env.unwrapped.sim.model.get_joint_qpos_addr('ankle_2'))\\nprint(env.unwrapped.sim.model.get_joint_qpos_addr('ankle_3'))\\nprint(env.unwrapped.sim.model.get_joint_qpos_addr('ankle_4'))\\n#if u enter <body> in addr then this will show you available list\\n#('root', 'hip_1', 'ankle_1', 'hip_2', 'ankle_2', 'hip_3', 'ankle_3', 'hip_4', 'ankle_4')\\n#qpos is front value index\\n\""
      ]
     },
     "execution_count": 12,
     "metadata": {},
     "output_type": "execute_result"
    }
   ],
   "source": [
    "'''\n",
    "print(env.unwrapped.sim.model.get_joint_qpos_addr('root'))\n",
    "print(env.unwrapped.sim.model.get_joint_qpos_addr('hip_1'))\n",
    "print(env.unwrapped.sim.model.get_joint_qpos_addr('hip_2'))\n",
    "print(env.unwrapped.sim.model.get_joint_qpos_addr('hip_3'))\n",
    "print(env.unwrapped.sim.model.get_joint_qpos_addr('hip_4'))\n",
    "print(env.unwrapped.sim.model.get_joint_qpos_addr('ankle_1'))\n",
    "print(env.unwrapped.sim.model.get_joint_qpos_addr('ankle_2'))\n",
    "print(env.unwrapped.sim.model.get_joint_qpos_addr('ankle_3'))\n",
    "print(env.unwrapped.sim.model.get_joint_qpos_addr('ankle_4'))\n",
    "#if u enter <body> in addr then this will show you available list\n",
    "#('root', 'hip_1', 'ankle_1', 'hip_2', 'ankle_2', 'hip_3', 'ankle_3', 'hip_4', 'ankle_4')\n",
    "#qpos is front value index\n",
    "'''\n"
   ]
  },
  {
   "cell_type": "code",
   "execution_count": 13,
   "metadata": {},
   "outputs": [],
   "source": [
    "target = torch.empty(3, dtype=torch.long).random_(5)"
   ]
  },
  {
   "cell_type": "code",
   "execution_count": 14,
   "metadata": {},
   "outputs": [
    {
     "data": {
      "text/plain": [
       "tensor([1, 4, 1])"
      ]
     },
     "execution_count": 14,
     "metadata": {},
     "output_type": "execute_result"
    }
   ],
   "source": [
    "target"
   ]
  },
  {
   "cell_type": "code",
   "execution_count": 15,
   "metadata": {},
   "outputs": [],
   "source": [
    "input = torch.randn(3, 5, requires_grad=True)"
   ]
  },
  {
   "cell_type": "code",
   "execution_count": null,
   "metadata": {},
   "outputs": [],
   "source": []
  },
  {
   "cell_type": "code",
   "execution_count": null,
   "metadata": {},
   "outputs": [],
   "source": []
  }
 ],
 "metadata": {
  "kernelspec": {
   "display_name": "Python 3",
   "language": "python",
   "name": "python3"
  },
  "language_info": {
   "codemirror_mode": {
    "name": "ipython",
    "version": 3
   },
   "file_extension": ".py",
   "mimetype": "text/x-python",
   "name": "python",
   "nbconvert_exporter": "python",
   "pygments_lexer": "ipython3",
   "version": "3.6.13"
  }
 },
 "nbformat": 4,
 "nbformat_minor": 2
}
