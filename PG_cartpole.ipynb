{
 "cells": [
  {
   "cell_type": "code",
   "execution_count": null,
   "metadata": {},
   "outputs": [],
   "source": [
    "import gym\n",
    "import torch\n",
    "import numpy as np\n",
    "import sys\n",
    "from torchvision.transforms import ToTensor, Lambda\n",
    "from torch import nn\n",
    "from my_model import Network\n",
    "from utils import dataset, dataloader, buffer\n",
    "import trainer\n",
    "import random\n",
    "import torch.onnx as onnx\n",
    "from torch.utils.tensorboard import SummaryWriter\n",
    "writer = SummaryWriter('RLresult/cartpole/pg')\n",
    "device = 'cuda' if torch.cuda.is_available() else 'cpu'\n"
   ]
  },
  {
   "cell_type": "code",
   "execution_count": null,
   "metadata": {},
   "outputs": [],
   "source": [
    "env = gym.make('CartPole-v1') \n",
    "print(\"act\", env.action_space)\n",
    "print(\"obs\", env.observation_space)"
   ]
  },
  {
   "cell_type": "code",
   "execution_count": null,
   "metadata": {},
   "outputs": [],
   "source": [
    "HIDDEN_SIZE = 32\n",
    "BATCH_SIZE = 10000\n",
    "learning_rate = 0.01\n",
    "CART_ACTION = 2\n",
    "CAPACITY = 10000\n",
    "TRAIN_ITER = CAPACITY*10/BATCH_SIZE\n",
    "PARAM_PATH = 'PG_param/cartpolePG.pth'\n",
    "PARAM_PATH_TEST = 'PG_param/cartpolePG_test.pth'\n",
    "#print(Transition(2,1,2,3))\n",
    "#Transition(state=2, action=1, next_state=2, reward=3)"
   ]
  },
  {
   "cell_type": "code",
   "execution_count": null,
   "metadata": {},
   "outputs": [],
   "source": [
    "input_state_size = len(env.observation_space.sample())\n",
    "updatedPG = Network.PG(input_state_size, HIDDEN_SIZE, CART_ACTION).to(device)\n"
   ]
  },
  {
   "cell_type": "code",
   "execution_count": null,
   "metadata": {},
   "outputs": [],
   "source": [
    "updatedPG.load_state_dict(torch.load(PARAM_PATH_TEST))\n"
   ]
  },
  {
   "cell_type": "code",
   "execution_count": null,
   "metadata": {},
   "outputs": [],
   "source": [
    "mybuffer = buffer.ForwardMem(updatedPG, env, \"cart\")"
   ]
  },
  {
   "cell_type": "code",
   "execution_count": null,
   "metadata": {},
   "outputs": [],
   "source": [
    "mycartdata = dataset.EnvData(capacity = CAPACITY)"
   ]
  },
  {
   "cell_type": "code",
   "execution_count": null,
   "metadata": {},
   "outputs": [],
   "source": [
    "%%time\n",
    "\n",
    "mydataloader = dataloader.CustomDataLoader(mycartdata, batch_size=BATCH_SIZE)\n",
    "mytrain = trainer.Train(\"cart\", mydataloader, updatedDQN, updatedDQN)"
   ]
  },
  {
   "cell_type": "code",
   "execution_count": null,
   "metadata": {},
   "outputs": [],
   "source": [
    "\n",
    "optimizer = torch.optim.SGD(updatedPG.parameters(), lr=learning_rate)\n",
    "train_iter = 100\n",
    "i = 0\n",
    "while(i < train_iter):\n",
    "    i = i + 1\n",
    "    mybuffer.renewal_memory(CAPACITY, mycartdata)\n",
    "    loss = mytrain.training(TRAIN_ITER, BATCH_SIZE, optimizer)\n",
    "    writer.add_scalar(\"loss\", loss, i)\n",
    "    torch.save(updatedPG.state_dict(), PARAM_PATH_TEST)\n",
    "    \n",
    "    \n",
    "env.close()"
   ]
  },
  {
   "cell_type": "code",
   "execution_count": null,
   "metadata": {},
   "outputs": [],
   "source": []
  }
 ],
 "metadata": {
  "kernelspec": {
   "display_name": "Python 3",
   "language": "python",
   "name": "python3"
  },
  "language_info": {
   "codemirror_mode": {
    "name": "ipython",
    "version": 3
   },
   "file_extension": ".py",
   "mimetype": "text/x-python",
   "name": "python",
   "nbconvert_exporter": "python",
   "pygments_lexer": "ipython3",
   "version": "3.6.13"
  }
 },
 "nbformat": 4,
 "nbformat_minor": 2
}
