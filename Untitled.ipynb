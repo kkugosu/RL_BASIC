{
 "cells": [
  {
   "cell_type": "code",
   "execution_count": 1,
   "id": "168e1e10",
   "metadata": {},
   "outputs": [
    {
     "name": "stderr",
     "output_type": "stream",
     "text": [
      "/home/jongsu/anaconda3/lib/python3.9/site-packages/torchvision/io/image.py:11: UserWarning: Failed to load image Python extension: libtorch_cuda_cu.so: cannot open shared object file: No such file or directory\n",
      "  warn(f\"Failed to load image Python extension: {e}\")\n"
     ]
    }
   ],
   "source": [
    "import torch\n",
    "import random\n",
    "import numpy as np\n",
    "from NeuralNetwork import NN\n",
    "from control import BASE, policy\n",
    "from utils import converter\n",
    "from control import policy\n",
    "device = 'cuda' if torch.cuda.is_available() else 'cpu'\n",
    "import gym\n"
   ]
  },
  {
   "cell_type": "code",
   "execution_count": 2,
   "id": "acff5b18",
   "metadata": {},
   "outputs": [],
   "source": [
    "env = gym.make('CartPole-v1')"
   ]
  },
  {
   "cell_type": "code",
   "execution_count": null,
   "id": "f7d79a8f",
   "metadata": {},
   "outputs": [
    {
     "name": "stderr",
     "output_type": "stream",
     "text": [
      "Failed to establish dbus connection"
     ]
    }
   ],
   "source": [
    "n_p_o = env.reset()\n",
    "t = 0\n",
    "while t < 1000:\n",
    "    n_a = np.random.randint(2)\n",
    "    n_o, n_r, n_d, info = env.step(n_a)\n",
    "    env.render()\n",
    "    if n_d == 1:\n",
    "        env.reset()\n",
    "    t = t + 1"
   ]
  },
  {
   "cell_type": "code",
   "execution_count": 1,
   "id": "20478fc1",
   "metadata": {},
   "outputs": [
    {
     "data": {
      "text/plain": [
       "tensor([ 4.,  8., 18.])"
      ]
     },
     "execution_count": 1,
     "metadata": {},
     "output_type": "execute_result"
    }
   ],
   "source": [
    "import torch\n",
    "# Multiplication tensors element by element\n",
    "a  = torch.tensor([1.,2., 3.])\n",
    "b = torch.tensor([4., 4., 6.])\n",
    "a.mul(b)"
   ]
  },
  {
   "cell_type": "code",
   "execution_count": 2,
   "id": "0b770c5d",
   "metadata": {},
   "outputs": [
    {
     "data": {
      "text/plain": [
       "tensor([ 4.,  8., 18.])"
      ]
     },
     "execution_count": 2,
     "metadata": {},
     "output_type": "execute_result"
    }
   ],
   "source": [
    "a*b"
   ]
  },
  {
   "cell_type": "code",
   "execution_count": 13,
   "id": "01913c21",
   "metadata": {},
   "outputs": [
    {
     "data": {
      "text/plain": [
       "tensor([[4., 4., 6.]])"
      ]
     },
     "execution_count": 13,
     "metadata": {},
     "output_type": "execute_result"
    }
   ],
   "source": [
    "torch.transpose(b.unsqueeze(-1),0,1)"
   ]
  },
  {
   "cell_type": "code",
   "execution_count": 15,
   "id": "b49ccea7",
   "metadata": {},
   "outputs": [],
   "source": [
    "b_ = b.unsqueeze(-1)"
   ]
  },
  {
   "cell_type": "code",
   "execution_count": 16,
   "id": "2c66d9ab",
   "metadata": {},
   "outputs": [],
   "source": [
    "a_ = a.unsqueeze(0)"
   ]
  },
  {
   "cell_type": "code",
   "execution_count": 17,
   "id": "fa82baa3",
   "metadata": {},
   "outputs": [
    {
     "data": {
      "text/plain": [
       "tensor([[ 4.,  8., 12.],\n",
       "        [ 4.,  8., 12.],\n",
       "        [ 6., 12., 18.]])"
      ]
     },
     "execution_count": 17,
     "metadata": {},
     "output_type": "execute_result"
    }
   ],
   "source": [
    "b_*a_"
   ]
  },
  {
   "cell_type": "code",
   "execution_count": null,
   "id": "11a26546",
   "metadata": {},
   "outputs": [],
   "source": [
    "import random\n",
    "import numpy as np\n",
    "\n",
    "\n",
    "class Converter:\n",
    "    def __init__(self, envname):\n",
    "        self.envname = envname\n",
    "\n",
    "    def index2act(self, _input, batch):\n",
    "        if self.envname == \"hope\":\n",
    "            if batch == 1:\n",
    "                first_action = (_input % 5 / 2) - 1\n",
    "                sec_action = ((_input % 25 - _input % 5) / 10) - 1\n",
    "                third_action = ((_input - _input % 25) / 50) - 1\n",
    "                out = np.array([first_action, sec_action, third_action])\n",
    "            else:\n",
    "                i = 0\n",
    "                out = np.zeros((batch, 3))\n",
    "                while i < batch:\n",
    "                    first_action = (_input[i] % 5 / 2) - 1\n",
    "                    sec_action = ((_input[i] % 25 - _input[i] % 5) / 10) - 1\n",
    "                    third_action = ((_input[i] - _input[i] % 25) / 50) - 1\n",
    "                    out[i] = np.array([first_action, sec_action, third_action])\n",
    "                    i = i + 1\n",
    "            return out\n",
    "        elif self.envname == \"cart\":\n",
    "            return _input\n",
    "        else:\n",
    "            print(\"converter error\")\n",
    "\n",
    "    def act2index(self, _input, batch):\n",
    "        if self.envname == \"hope\":\n",
    "            if batch == 1:\n",
    "                _input = _input + 1\n",
    "                _input = _input * 2\n",
    "                out = _input[2] * 25 + _input[1] * 5 + _input[0]\n",
    "            else:\n",
    "                i = 0\n",
    "                out = np.zeros(batch)\n",
    "                while i < batch:\n",
    "                    _input[i] = _input[i] + 1\n",
    "                    _input[i] = _input[i] * 2\n",
    "                    out[i] = _input[i][2] * 25 + _input[i][1] * 5 + _input[i][0]\n",
    "                    i = i + 1\n",
    "            return out\n",
    "        elif self.envname == \"cart\":\n",
    "            return _input\n",
    "        else:\n",
    "            print(\"converter error\")\n",
    "\n",
    "    def rand_act(self):\n",
    "        if self.envname == \"hope\":\n",
    "            return (np.random.randint(5, size=3) - 2)/2\n",
    "        elif self.envname == \"cart\":\n",
    "            a = np.random.randint(2)\n",
    "            return np.int64(a)\n",
    "        else:\n",
    "            print(\"converter error\")\n",
    "\n",
    "\n",
    "\n",
    "\n"
   ]
  },
  {
   "cell_type": "code",
   "execution_count": 2,
   "id": "d4674734",
   "metadata": {},
   "outputs": [],
   "source": [
    "import numpy as np\n",
    "import torch\n",
    "out = np.zeros((10, 3))"
   ]
  },
  {
   "cell_type": "code",
   "execution_count": 13,
   "id": "a4d9f649",
   "metadata": {},
   "outputs": [],
   "source": [
    "out = torch.zeros((10,3),device = 'cpu')"
   ]
  },
  {
   "cell_type": "code",
   "execution_count": 9,
   "id": "ead41d8c",
   "metadata": {},
   "outputs": [
    {
     "data": {
      "text/plain": [
       "tensor([[0., 0., 0.],\n",
       "        [0., 0., 0.],\n",
       "        [0., 0., 0.],\n",
       "        [0., 0., 0.],\n",
       "        [0., 0., 0.],\n",
       "        [0., 0., 0.],\n",
       "        [0., 0., 0.],\n",
       "        [0., 0., 0.],\n",
       "        [0., 0., 0.],\n",
       "        [0., 0., 0.]])"
      ]
     },
     "execution_count": 9,
     "metadata": {},
     "output_type": "execute_result"
    }
   ],
   "source": [
    "out"
   ]
  },
  {
   "cell_type": "code",
   "execution_count": 10,
   "id": "72750c64",
   "metadata": {},
   "outputs": [],
   "source": [
    "out[3] = torch.tensor([2, 3, 1])"
   ]
  },
  {
   "cell_type": "code",
   "execution_count": 11,
   "id": "34d52a4b",
   "metadata": {
    "scrolled": true
   },
   "outputs": [
    {
     "data": {
      "text/plain": [
       "tensor([[0., 0., 0.],\n",
       "        [0., 0., 0.],\n",
       "        [0., 0., 0.],\n",
       "        [2., 3., 1.],\n",
       "        [0., 0., 0.],\n",
       "        [0., 0., 0.],\n",
       "        [0., 0., 0.],\n",
       "        [0., 0., 0.],\n",
       "        [0., 0., 0.],\n",
       "        [0., 0., 0.]])"
      ]
     },
     "execution_count": 11,
     "metadata": {},
     "output_type": "execute_result"
    }
   ],
   "source": [
    "out"
   ]
  },
  {
   "cell_type": "code",
   "execution_count": 16,
   "id": "4696007f",
   "metadata": {},
   "outputs": [
    {
     "data": {
      "text/plain": [
       "tensor([2, 2, 2])"
      ]
     },
     "execution_count": 16,
     "metadata": {},
     "output_type": "execute_result"
    }
   ],
   "source": [
    "torch.randint(3, 4, (3,)) -1"
   ]
  },
  {
   "cell_type": "code",
   "execution_count": 26,
   "id": "04f0acc7",
   "metadata": {},
   "outputs": [],
   "source": [
    "n_a = torch.randint(2, size = (1,))[0]\n",
    "n_a = 1"
   ]
  },
  {
   "cell_type": "code",
   "execution_count": 27,
   "id": "21041d42",
   "metadata": {},
   "outputs": [
    {
     "data": {
      "text/plain": [
       "(array([ 0.00523264,  0.23816238,  0.03059083, -0.33227867], dtype=float32),\n",
       " 1.0,\n",
       " False,\n",
       " {})"
      ]
     },
     "execution_count": 27,
     "metadata": {},
     "output_type": "execute_result"
    }
   ],
   "source": [
    "import gym\n",
    "env = gym.make('CartPole-v1')\n",
    "env.step(n_a)"
   ]
  },
  {
   "cell_type": "code",
   "execution_count": 28,
   "id": "459a975d",
   "metadata": {},
   "outputs": [],
   "source": [
    "_a = np.random.randint(2, size=(1,))"
   ]
  },
  {
   "cell_type": "code",
   "execution_count": 29,
   "id": "877c43bb",
   "metadata": {},
   "outputs": [
    {
     "data": {
      "text/plain": [
       "array([0])"
      ]
     },
     "execution_count": 29,
     "metadata": {},
     "output_type": "execute_result"
    }
   ],
   "source": [
    "_a"
   ]
  },
  {
   "cell_type": "code",
   "execution_count": 30,
   "id": "649e8cfb",
   "metadata": {},
   "outputs": [
    {
     "data": {
      "text/plain": [
       "array([ 0., -1., -1.])"
      ]
     },
     "execution_count": 30,
     "metadata": {},
     "output_type": "execute_result"
    }
   ],
   "source": [
    "(np.random.randint(5, size=(3,)) - 2)/2"
   ]
  },
  {
   "cell_type": "code",
   "execution_count": 5,
   "id": "b7fd0cf2",
   "metadata": {},
   "outputs": [
    {
     "name": "stdout",
     "output_type": "stream",
     "text": [
      "aa\n",
      "aa\n",
      "aa\n",
      "aa\n",
      "aa\n",
      "aa\n",
      "aa\n",
      "aa\n",
      "aa\n",
      "aa\n"
     ]
    }
   ],
   "source": [
    "import torch\n",
    "from torch.utils.tensorboard import SummaryWriter\n",
    "writer = SummaryWriter('logs/')\n",
    "x = torch.arange(-5, 5, 0.1).view(-1, 1)\n",
    "y = -5 * x + 0.1 * torch.randn(x.size())\n",
    "\n",
    "model = torch.nn.Linear(1, 1)\n",
    "criterion = torch.nn.MSELoss()\n",
    "optimizer = torch.optim.SGD(model.parameters(), lr = 0.1)\n",
    "\n",
    "def train_model(iter):\n",
    "    for epoch in range(iter):\n",
    "        y1 = model(x)\n",
    "        loss = criterion(y1, y)\n",
    "        writer.add_scalar(\"Loss/train\", loss, epoch)\n",
    "        optimizer.zero_grad()\n",
    "        loss.backward()\n",
    "        optimizer.step()\n",
    "        print(\"aa\")\n",
    "\n",
    "train_model(10)\n",
    "writer.flush()"
   ]
  },
  {
   "cell_type": "code",
   "execution_count": 6,
   "id": "15c071a4",
   "metadata": {},
   "outputs": [],
   "source": [
    "writer.close()"
   ]
  },
  {
   "cell_type": "code",
   "execution_count": 2,
   "id": "f17382fc",
   "metadata": {},
   "outputs": [],
   "source": [
    "import torch\n",
    "import numpy as np\n",
    "from torchvision.transforms import ToTensor, Lambda\n",
    "from torch import nn\n",
    "\n",
    "\n",
    "class SimpleNN(nn.Module):\n",
    "\n",
    "    def __init__(self, input_size, hidden_size, output_size):\n",
    "        super(SimpleNN, self).__init__()\n",
    "        # self.flatten = nn.Flatten()\n",
    "        self.linear_relu_stack = nn.Sequential(\n",
    "            nn.Linear(input_size, hidden_size),\n",
    "            nn.ReLU(),\n",
    "            nn.Linear(hidden_size, hidden_size),\n",
    "            nn.ReLU(),\n",
    "            nn.Linear(hidden_size, output_size),\n",
    "\n",
    "        )\n",
    "\n",
    "    def forward(self, input_element):\n",
    "        output = self.linear_relu_stack(input_element)\n",
    "        return output\n",
    "\n",
    "base = SimpleNN(10, 10, 10)"
   ]
  },
  {
   "cell_type": "code",
   "execution_count": 14,
   "id": "dd80e4c5",
   "metadata": {},
   "outputs": [],
   "source": [
    "a = torch.zeros((3,10))"
   ]
  },
  {
   "cell_type": "code",
   "execution_count": 15,
   "id": "03880909",
   "metadata": {},
   "outputs": [
    {
     "data": {
      "text/plain": [
       "tensor([[0., 0., 0., 0., 0., 0., 0., 0., 0., 0.],\n",
       "        [0., 0., 0., 0., 0., 0., 0., 0., 0., 0.],\n",
       "        [0., 0., 0., 0., 0., 0., 0., 0., 0., 0.]])"
      ]
     },
     "execution_count": 15,
     "metadata": {},
     "output_type": "execute_result"
    }
   ],
   "source": [
    "a"
   ]
  },
  {
   "cell_type": "code",
   "execution_count": 17,
   "id": "b37d15ea",
   "metadata": {},
   "outputs": [],
   "source": [
    "b = torch.zeros(10)"
   ]
  },
  {
   "cell_type": "code",
   "execution_count": 19,
   "id": "a0924c28",
   "metadata": {},
   "outputs": [
    {
     "data": {
      "text/plain": [
       "torch.Size([3, 10])"
      ]
     },
     "execution_count": 19,
     "metadata": {},
     "output_type": "execute_result"
    }
   ],
   "source": [
    "np.shape(base(a))"
   ]
  },
  {
   "cell_type": "code",
   "execution_count": 20,
   "id": "4b03d7f3",
   "metadata": {},
   "outputs": [
    {
     "data": {
      "text/plain": [
       "torch.Size([10])"
      ]
     },
     "execution_count": 20,
     "metadata": {},
     "output_type": "execute_result"
    }
   ],
   "source": [
    "np.shape(base(b))"
   ]
  },
  {
   "cell_type": "code",
   "execution_count": 22,
   "id": "089d7b8f",
   "metadata": {},
   "outputs": [],
   "source": [
    "c = a.unsqueeze(-1)"
   ]
  },
  {
   "cell_type": "code",
   "execution_count": 24,
   "id": "475dbdf7",
   "metadata": {},
   "outputs": [
    {
     "name": "stdout",
     "output_type": "stream",
     "text": [
      "torch.Size([3, 10, 1])\n"
     ]
    }
   ],
   "source": [
    "print(np.shape(c))"
   ]
  },
  {
   "cell_type": "code",
   "execution_count": 23,
   "id": "963a62c1",
   "metadata": {},
   "outputs": [
    {
     "data": {
      "text/plain": [
       "tensor([[0., 0., 0., 0., 0., 0., 0., 0., 0., 0.],\n",
       "        [0., 0., 0., 0., 0., 0., 0., 0., 0., 0.],\n",
       "        [0., 0., 0., 0., 0., 0., 0., 0., 0., 0.]])"
      ]
     },
     "execution_count": 23,
     "metadata": {},
     "output_type": "execute_result"
    }
   ],
   "source": [
    "c.squeeze(-1)"
   ]
  },
  {
   "cell_type": "code",
   "execution_count": 22,
   "id": "2b67de9d",
   "metadata": {},
   "outputs": [],
   "source": [
    "import torch.nn.functional as F\n",
    "from torch import nn\n",
    "import torch\n",
    "\n",
    "\n",
    "\n",
    "\n",
    "#kl_loss = nn.KLDivLoss(reduction=\"batchmean\", log_target=True)\n",
    "#log_target = F.log_softmax(torch.rand(3, 5))\n",
    "#output = kl_loss(input_, log_target)"
   ]
  },
  {
   "cell_type": "code",
   "execution_count": 23,
   "id": "46de6353",
   "metadata": {},
   "outputs": [
    {
     "name": "stderr",
     "output_type": "stream",
     "text": [
      "/tmp/ipykernel_3845/1812325958.py:3: UserWarning: Implicit dimension choice for log_softmax has been deprecated. Change the call to include dim=X as an argument.\n",
      "  input_ = F.log_softmax(torch.randn(3, 5, requires_grad=True))\n",
      "/tmp/ipykernel_3845/1812325958.py:5: UserWarning: Implicit dimension choice for softmax has been deprecated. Change the call to include dim=X as an argument.\n",
      "  target = F.softmax(torch.rand(3, 5))\n"
     ]
    }
   ],
   "source": [
    "kl_loss = nn.KLDivLoss(reduction=\"batchmean\")\n",
    "# input should be a distribution in the log space\n",
    "input_ = F.log_softmax(torch.randn(3, 5, requires_grad=True))\n",
    "# Sample a batch of distributions. Usually this would come from the dataset\n",
    "target = F.softmax(torch.rand(3, 5))\n",
    "output = kl_loss(input_, target)"
   ]
  },
  {
   "cell_type": "code",
   "execution_count": 24,
   "id": "3f6d3b23",
   "metadata": {},
   "outputs": [
    {
     "data": {
      "text/plain": [
       "tensor([[-2.8688, -1.2160, -2.3048, -0.7909, -2.3684],\n",
       "        [-3.1746, -4.4358, -0.2845, -4.6341, -1.6916],\n",
       "        [-1.0830, -3.3001, -1.5137, -1.1018, -2.6286]],\n",
       "       grad_fn=<LogSoftmaxBackward0>)"
      ]
     },
     "execution_count": 24,
     "metadata": {},
     "output_type": "execute_result"
    }
   ],
   "source": [
    "input_"
   ]
  },
  {
   "cell_type": "code",
   "execution_count": 25,
   "id": "017f9673",
   "metadata": {},
   "outputs": [
    {
     "data": {
      "text/plain": [
       "tensor([[0.2261, 0.1140, 0.2669, 0.2333, 0.1596],\n",
       "        [0.1896, 0.2127, 0.2101, 0.2110, 0.1767],\n",
       "        [0.1296, 0.3074, 0.1633, 0.1643, 0.2354]])"
      ]
     },
     "execution_count": 25,
     "metadata": {},
     "output_type": "execute_result"
    }
   ],
   "source": [
    "target"
   ]
  },
  {
   "cell_type": "code",
   "execution_count": 26,
   "id": "bd20dd51",
   "metadata": {},
   "outputs": [
    {
     "data": {
      "text/plain": [
       "tensor(0.7708, grad_fn=<DivBackward0>)"
      ]
     },
     "execution_count": 26,
     "metadata": {},
     "output_type": "execute_result"
    }
   ],
   "source": [
    "output"
   ]
  },
  {
   "cell_type": "code",
   "execution_count": 27,
   "id": "cde01b65",
   "metadata": {},
   "outputs": [
    {
     "name": "stdout",
     "output_type": "stream",
     "text": [
      "tensor(0.0793, grad_fn=<DivBackward0>)\n",
      "tensor(0.2550, grad_fn=<DivBackward0>)\n",
      "tensor(0.1283, grad_fn=<DivBackward0>)\n"
     ]
    }
   ],
   "source": [
    "print(kl_loss(input_[0], target[0]))\n",
    "print(kl_loss(input_[1], target[1]))\n",
    "print(kl_loss(input_[2], target[2]))"
   ]
  },
  {
   "cell_type": "code",
   "execution_count": 21,
   "id": "e6430dea",
   "metadata": {},
   "outputs": [
    {
     "data": {
      "text/plain": [
       "torch.Size([3, 5])"
      ]
     },
     "execution_count": 21,
     "metadata": {},
     "output_type": "execute_result"
    }
   ],
   "source": [
    "target.size()"
   ]
  },
  {
   "cell_type": "code",
   "execution_count": 1,
   "id": "c94c519e",
   "metadata": {},
   "outputs": [
    {
     "name": "stderr",
     "output_type": "stream",
     "text": [
      "/home/jongsu/anaconda3/lib/python3.9/site-packages/torchvision/io/image.py:11: UserWarning: Failed to load image Python extension: libtorch_cuda_cu.so: cannot open shared object file: No such file or directory\n",
      "  warn(f\"Failed to load image Python extension: {e}\")\n"
     ]
    }
   ],
   "source": [
    "import torch\n",
    "import numpy as np\n",
    "from torchvision.transforms import ToTensor, Lambda\n",
    "from torch import nn\n",
    "\n",
    "\n",
    "class SimpleNN(nn.Module):\n",
    "\n",
    "    def __init__(self, input_size, hidden_size, output_size):\n",
    "        super(SimpleNN, self).__init__()\n",
    "        # self.flatten = nn.Flatten()\n",
    "        self.linear_relu_stack = nn.Sequential(\n",
    "            nn.Linear(input_size, hidden_size),\n",
    "            nn.ReLU(),\n",
    "            nn.Linear(hidden_size, hidden_size),\n",
    "            nn.ReLU(),\n",
    "            nn.Linear(hidden_size, output_size),\n",
    "\n",
    "        )\n",
    "\n",
    "    def forward(self, input_element):\n",
    "        output = self.linear_relu_stack(input_element)\n",
    "        return output\n",
    "\n",
    "mynn = SimpleNN(2,3,1)"
   ]
  },
  {
   "cell_type": "code",
   "execution_count": 2,
   "id": "8607498f",
   "metadata": {},
   "outputs": [],
   "source": [
    "k = torch.tensor([1.0, 2.0])\n",
    "criterion = nn.MSELoss()"
   ]
  },
  {
   "cell_type": "code",
   "execution_count": 7,
   "id": "2fd17fb8",
   "metadata": {},
   "outputs": [
    {
     "name": "stdout",
     "output_type": "stream",
     "text": [
      "tensor([0.7106])\n",
      "tensor([0.5686])\n",
      "tensor([0.4496])\n",
      "tensor([0.3447])\n",
      "tensor([0.2490])\n",
      "tensor([0.1592])\n",
      "tensor([0.0735])\n",
      "tensor([-0.0096])\n",
      "tensor([-0.0912])\n",
      "tensor([-0.1723])\n"
     ]
    }
   ],
   "source": [
    "i = 0\n",
    "while i < 10:\n",
    "    i = i + 1\n",
    "    with torch.no_grad():\n",
    "        new = mynn(k)\n",
    "    neww = new.clone().detach()\n",
    "    print(neww)\n",
    "    loss = criterion(mynn(k),torch.tensor([1.35])) + 10*(mynn(k)-neww)\n",
    "    opt = torch.optim.SGD(mynn.parameters(), lr=0.01)\n",
    "    opt.zero_grad()\n",
    "    loss.backward()\n",
    "    opt.step()\n",
    "\n"
   ]
  },
  {
   "cell_type": "code",
   "execution_count": 8,
   "id": "2452f6b9",
   "metadata": {},
   "outputs": [
    {
     "data": {
      "text/plain": [
       "0.13261955589475294"
      ]
     },
     "execution_count": 8,
     "metadata": {},
     "output_type": "execute_result"
    }
   ],
   "source": [
    "0.98**100"
   ]
  },
  {
   "cell_type": "code",
   "execution_count": 20,
   "id": "9748fcf3",
   "metadata": {},
   "outputs": [
    {
     "data": {
      "text/plain": [
       "tensor([1, 1, 1, 1])"
      ]
     },
     "execution_count": 20,
     "metadata": {},
     "output_type": "execute_result"
    }
   ],
   "source": [
    "import torch\n",
    "weights = torch.tensor([0, 10, 3, 0], dtype=torch.float) # create a tensor of weights\n",
    "#torch.multinomial(weights, 2)\n",
    "#tensor([1, 2])\n",
    "#torch.multinomial(weights, 4) # ERROR!\n",
    "\n",
    "\n",
    "torch.multinomial(weights, 4, replacement=True)\n",
    "#tensor([ 2,  1,  1,  1])"
   ]
  },
  {
   "cell_type": "code",
   "execution_count": 24,
   "id": "5644bcce",
   "metadata": {},
   "outputs": [],
   "source": [
    "from torch import nn\n",
    "m = nn.Softmax(dim=-1)\n",
    "input = torch.randn(2, 3)\n",
    "output = m(input)\n"
   ]
  },
  {
   "cell_type": "code",
   "execution_count": 25,
   "id": "eb838407",
   "metadata": {},
   "outputs": [
    {
     "data": {
      "text/plain": [
       "tensor([[0.2037, 0.6854, 0.1109],\n",
       "        [0.3106, 0.0990, 0.5904]])"
      ]
     },
     "execution_count": 25,
     "metadata": {},
     "output_type": "execute_result"
    }
   ],
   "source": [
    "output"
   ]
  },
  {
   "cell_type": "code",
   "execution_count": 27,
   "id": "45354089",
   "metadata": {},
   "outputs": [
    {
     "data": {
      "text/plain": [
       "tensor([[-0.0722,  0.7992,  0.9306]])"
      ]
     },
     "execution_count": 27,
     "metadata": {},
     "output_type": "execute_result"
    }
   ],
   "source": [
    "a = torch.randn(1, 3)\n",
    "a"
   ]
  },
  {
   "cell_type": "code",
   "execution_count": 30,
   "id": "5b1c6207",
   "metadata": {},
   "outputs": [
    {
     "data": {
      "text/plain": [
       "tensor([[1.0000, 1.8714, 2.0028]])"
      ]
     },
     "execution_count": 30,
     "metadata": {},
     "output_type": "execute_result"
    }
   ],
   "source": [
    "\n",
    "a - torch.min(a) + 1"
   ]
  },
  {
   "cell_type": "code",
   "execution_count": null,
   "id": "87a0a55a",
   "metadata": {},
   "outputs": [],
   "source": [
    "Parameter containing:\n",
    "tensor([[-0.1153,  0.1531,  0.2558,  0.3638],\n",
    "        [ 0.3095,  0.1576, -0.1297,  0.1858],\n",
    "        [-0.4613, -0.4068,  0.4003,  0.4033],\n",
    "        [-0.4306, -0.2156,  0.2613, -0.1378],\n",
    "        [-0.0977, -0.0075,  0.3817, -0.1533],\n",
    "        [-0.3150,  0.0940, -0.0759,  0.4562],\n",
    "        [-0.3824,  0.1999,  0.0448, -0.1273],\n",
    "        [-0.2973,  0.1861,  0.1902,  0.1412],\n",
    "        [-0.0250,  0.4505, -0.4244, -0.0645],\n",
    "        [-0.4801,  0.4728, -0.4268, -0.0680],\n",
    "        [-0.1753, -0.2660, -0.3628, -0.0011],\n",
    "        [ 0.1259, -0.4008,  0.1656,  0.0722],\n",
    "        [ 0.0054,  0.4498, -0.4194,  0.4872],\n",
    "        [-0.4887, -0.0846,  0.3285,  0.3815],\n",
    "        [-0.0877, -0.2835, -0.2135,  0.4707],\n",
    "        [-0.0197, -0.0386, -0.1021, -0.3287],\n",
    "        [ 0.1114,  0.0631, -0.0839,  0.3300],\n",
    "        [ 0.3358, -0.2219,  0.2871, -0.0726],\n",
    "        [ 0.3624,  0.4301, -0.2620, -0.3056],\n",
    "        [ 0.0958, -0.4143,  0.1365, -0.0372],\n",
    "        [-0.4620,  0.0714, -0.4247,  0.0248],\n",
    "        [ 0.0330, -0.2530,  0.3441,  0.1409],\n",
    "        [ 0.1642,  0.3770,  0.2618, -0.3784],\n",
    "        [-0.0522,  0.1938, -0.0871, -0.1961],\n",
    "        [-0.2112,  0.4974,  0.2368, -0.1381],\n",
    "        [-0.2156,  0.3389,  0.4764, -0.3926],\n",
    "        [ 0.2360,  0.0343,  0.0133,  0.2427],\n",
    "        [-0.0476, -0.1736, -0.2573, -0.0404],\n",
    "        [ 0.3317,  0.3710, -0.4510,  0.1788],\n",
    "        [-0.3951,  0.3671,  0.1167,  0.0812],\n",
    "        [ 0.4517,  0.4189,  0.4040, -0.0425],\n",
    "        [-0.2620, -0.0349, -0.3979,  0.0479]], device='cuda:0',\n",
    "       requires_grad=True)\n",
    "----------dqn-------------\n",
    "Parameter containing:\n",
    "tensor([ 0.3497, -0.0831,  0.1123, -0.0329,  0.2565, -0.2597, -0.1060,  0.4990,\n",
    "        -0.3214, -0.0376,  0.1447, -0.3315,  0.1408,  0.2037, -0.0100,  0.2024,\n",
    "         0.2366, -0.3540, -0.4622,  0.0453, -0.0548, -0.0910, -0.2801,  0.2807,\n",
    "         0.4093,  0.3656, -0.0182,  0.0905,  0.2312, -0.1205,  0.1457,  0.1231],\n",
    "       device='cuda:0', requires_grad=True)\n",
    "----------dqn-------------\n",
    "Parameter containing:\n",
    "tensor([[ 0.1448,  0.0213,  0.1083,  ...,  0.0585, -0.1223,  0.1546],\n",
    "        [ 0.0585,  0.0638, -0.0407,  ..., -0.0676, -0.0122,  0.0808],\n",
    "        [ 0.0671,  0.0349,  0.0511,  ..., -0.0134, -0.1033, -0.1486],\n",
    "        ...,\n",
    "        [ 0.1697,  0.1497,  0.1246,  ..., -0.1612, -0.1097, -0.1735],\n",
    "        [-0.1409, -0.0796, -0.0548,  ...,  0.0655, -0.1578, -0.0249],\n",
    "        [-0.1525, -0.1516, -0.1395,  ...,  0.0931,  0.0942, -0.1504]],\n",
    "       device='cuda:0', requires_grad=True)\n",
    "----------dqn-------------\n",
    "Parameter containing:\n",
    "tensor([-0.0900,  0.1730,  0.1257, -0.1526, -0.0644, -0.0826,  0.0104,  0.0044,\n",
    "         0.0942,  0.1447, -0.0120, -0.1059, -0.1436,  0.1336,  0.1249,  0.0688,\n",
    "        -0.0911,  0.0466, -0.1236, -0.0745,  0.0490, -0.1731,  0.1458, -0.1510,\n",
    "         0.1796, -0.1250,  0.0856, -0.1477, -0.1214,  0.0158, -0.1041,  0.0307],\n",
    "       device='cuda:0', requires_grad=True)\n",
    "----------dqn-------------\n",
    "Parameter containing:\n",
    "tensor([[ 0.1704,  0.1014,  0.1696,  0.1409, -0.1051, -0.0829, -0.1218,  0.1624,\n",
    "         -0.1342,  0.0288,  0.0006,  0.0603,  0.1343,  0.1329,  0.1477,  0.0417,\n",
    "         -0.0327, -0.1071, -0.1301,  0.0373,  0.0617,  0.0900,  0.1412, -0.0816,\n",
    "          0.1520, -0.1337,  0.0542, -0.1138, -0.0347,  0.1261, -0.0137,  0.1046],\n",
    "        [ 0.1003, -0.0828, -0.1739, -0.1213,  0.1642, -0.0630, -0.0292, -0.1241,\n",
    "          0.1070, -0.0839,  0.0022,  0.0101,  0.1390, -0.1346, -0.1594, -0.0994,\n",
    "         -0.0091,  0.0906,  0.0639,  0.0572, -0.1628, -0.0071, -0.0626, -0.0300,\n",
    "          0.0462, -0.1764, -0.1249, -0.0236, -0.1543, -0.0340, -0.1554,  0.0254]],\n",
    "       device='cuda:0', requires_grad=True)\n",
    "----------dqn-------------\n",
    "Parameter containing:\n",
    "tensor([0.0355, 0.0854], device='cuda:0', requires_grad=True)\n",
    "----------pg--------------\n",
    "Parameter containing:\n",
    "tensor([[ 3.9404e-01, -5.0478e-01, -1.2097e-01,  4.7137e-01],\n",
    "        [-4.0178e-01, -4.7712e-01, -4.6165e-01,  4.0403e-01],\n",
    "        [ 1.4678e-01, -4.8313e-01, -1.8860e-01, -7.8194e-02],\n",
    "        [-4.1095e-01, -1.6470e-01, -3.1337e-01,  1.6822e-01],\n",
    "        [-4.7751e-02, -3.2607e-01,  3.8278e-01, -3.1910e-01],\n",
    "        [ 1.9602e-02,  1.5860e-01,  7.8840e-02,  3.7945e-01],\n",
    "        [ 2.7699e-01, -1.3136e-01,  1.6256e-01, -3.9649e-01],\n",
    "        [ 4.7570e-01, -2.8188e-01,  1.6256e-01,  5.5788e-02],\n",
    "        [ 1.7040e-01, -3.6639e-01,  4.7345e-01,  4.8724e-01],\n",
    "        [ 9.1821e-02,  3.7982e-01, -2.1419e-01, -1.1039e-01],\n",
    "        [-1.4488e-02,  1.3087e-01,  3.4480e-02,  6.7060e-02],\n",
    "        [-1.9922e-01, -2.6390e-01,  3.4977e-01,  3.5955e-01],\n",
    "        [-3.3517e-01,  1.2000e-01, -3.9830e-01,  3.4492e-01],\n",
    "        [-3.4106e-01,  1.8865e-01,  4.2595e-01,  4.2911e-01],\n",
    "        [-4.5449e-01, -2.3530e-04, -3.6084e-01, -4.0949e-01],\n",
    "        [ 5.4115e-02,  6.9504e-02, -3.0680e-01, -3.9177e-01],\n",
    "        [-4.5810e-01,  3.6450e-02, -4.3411e-01, -3.7387e-01],\n",
    "        [-1.8613e-01, -3.0684e-01,  3.2200e-01,  1.1887e-01],\n",
    "        [-3.4662e-01,  1.1289e-01, -1.3108e-01,  1.8285e-01],\n",
    "        [ 4.3902e-01, -5.0401e-01, -3.2905e-01,  2.2181e-01],\n",
    "        [-1.8223e-01,  5.9250e-02, -3.6876e-01, -3.9135e-01],\n",
    "        [ 4.8725e-01, -8.0303e-02,  3.1222e-01,  3.5445e-01],\n",
    "        [ 1.8421e-01,  2.9008e-01, -3.0809e-01, -4.2479e-01],\n",
    "        [ 4.5788e-01,  9.3103e-02,  4.3102e-01,  1.0225e-01],\n",
    "        [-3.3025e-01, -1.5731e-02,  3.2223e-01, -3.8577e-02],\n",
    "        [ 2.7138e-01,  2.7390e-01, -1.4803e-01, -5.1404e-02],\n",
    "        [-2.3359e-01, -3.2469e-02, -3.1184e-01, -5.3310e-03],\n",
    "        [-3.1909e-02,  3.2712e-01,  4.4896e-01,  4.1701e-01],\n",
    "        [-2.2670e-01,  3.6036e-01, -3.3023e-01, -1.3964e-02],\n",
    "        [-1.5486e-01,  2.1740e-01,  2.7637e-01,  4.4124e-01],\n",
    "        [-1.9029e-01, -2.1223e-01,  3.8105e-01,  2.6093e-01],\n",
    "        [ 4.0971e-01,  2.1271e-01,  1.1893e-01,  4.6049e-01]], device='cuda:0',\n",
    "       requires_grad=True)\n",
    "----------pg--------------\n",
    "Parameter containing:\n",
    "tensor([ 0.3237, -0.3274,  0.0671,  0.0206,  0.1519,  0.3485,  0.3735,  0.1104,\n",
    "        -0.4846, -0.2090, -0.0791, -0.4798, -0.1422,  0.2272, -0.0463, -0.1686,\n",
    "         0.3816,  0.2790,  0.0863, -0.0775, -0.2882, -0.4217,  0.2327,  0.2473,\n",
    "         0.3801,  0.4637, -0.4886, -0.3739, -0.3516, -0.3023, -0.4578, -0.0809],\n",
    "       device='cuda:0', requires_grad=True)\n",
    "----------pg--------------\n",
    "Parameter containing:\n",
    "tensor([[ 0.1702, -0.0846, -0.0381,  ..., -0.1220,  0.0140,  0.1478],\n",
    "        [-0.1183, -0.0418, -0.0638,  ..., -0.0071, -0.0771,  0.0068],\n",
    "        [-0.0801, -0.0741, -0.0987,  ...,  0.1329,  0.0255, -0.0842],\n",
    "        ...,\n",
    "        [ 0.1179, -0.1516, -0.1456,  ..., -0.0300, -0.0013, -0.0470],\n",
    "        [-0.1336, -0.1588, -0.0063,  ...,  0.0743, -0.0032, -0.0075],\n",
    "        [-0.0349,  0.0454, -0.0592,  ...,  0.1131,  0.0607,  0.1299]],\n",
    "       device='cuda:0', requires_grad=True)\n",
    "----------pg--------------\n",
    "Parameter containing:\n",
    "tensor([ 0.0718, -0.1051,  0.1742,  0.1204,  0.0225, -0.0182,  0.1295,  0.0909,\n",
    "        -0.0300,  0.1885,  0.1221,  0.1317, -0.1578,  0.1333, -0.0137,  0.1872,\n",
    "        -0.0501, -0.0020, -0.1455, -0.0149,  0.0453,  0.1591, -0.0674, -0.1102,\n",
    "        -0.1522, -0.0956,  0.0375, -0.1398, -0.1573, -0.1733,  0.0224, -0.0312],\n",
    "       device='cuda:0', requires_grad=True)\n",
    "----------pg--------------\n",
    "Parameter containing:\n",
    "tensor([[ 0.1717, -0.0738, -0.1595,  0.1772,  0.0583, -0.0819,  0.0682,  0.0518,\n",
    "         -0.0009,  0.1088, -0.1230,  0.0783,  0.0700,  0.1806, -0.0050,  0.1334,\n",
    "         -0.0728,  0.1266,  0.1251, -0.0161, -0.1373, -0.0011,  0.0171, -0.0228,\n",
    "         -0.0297, -0.1092, -0.0622,  0.0323, -0.1789, -0.1658,  0.1746, -0.1340],\n",
    "        [ 0.0956,  0.1555, -0.1850, -0.1162, -0.1556, -0.1634,  0.1255,  0.0394,\n",
    "          0.0738, -0.1644, -0.0136,  0.1104, -0.1433, -0.1560,  0.0592,  0.0142,\n",
    "          0.0743, -0.0753, -0.1540, -0.1658, -0.1366,  0.1585, -0.1619,  0.1012,\n",
    "          0.0871, -0.0523, -0.0691, -0.1286,  0.0671,  0.0791,  0.0709, -0.0046]],\n",
    "       device='cuda:0', requires_grad=True)\n",
    "----------pg--------------\n",
    "Parameter containing:\n",
    "tensor([ 0.1917, -0.0482], device='cuda:0', requires_grad=True)"
   ]
  },
  {
   "cell_type": "code",
   "execution_count": null,
   "id": "ea1366ce",
   "metadata": {},
   "outputs": [],
   "source": [
    "----------dqn-------------\n",
    "Parameter containing:\n",
    "tensor([[-0.1153,  0.1531,  0.2558,  0.3639],\n",
    "        [ 0.3095,  0.1576, -0.1297,  0.1858],\n",
    "        [-0.4613, -0.4068,  0.4003,  0.4033],\n",
    "        [-0.4306, -0.2156,  0.2613, -0.1378],\n",
    "        [-0.0977, -0.0076,  0.3817, -0.1532],\n",
    "        [-0.3150,  0.0940, -0.0759,  0.4562],\n",
    "        [-0.3824,  0.1999,  0.0448, -0.1273],\n",
    "        [-0.2973,  0.1861,  0.1902,  0.1412],\n",
    "        [-0.0250,  0.4505, -0.4244, -0.0645],\n",
    "        [-0.4801,  0.4728, -0.4268, -0.0680],\n",
    "        [-0.1753, -0.2660, -0.3628, -0.0011],\n",
    "        [ 0.1259, -0.4008,  0.1656,  0.0721],\n",
    "        [ 0.0054,  0.4498, -0.4194,  0.4872],\n",
    "        [-0.4887, -0.0846,  0.3285,  0.3815],\n",
    "        [-0.0877, -0.2835, -0.2135,  0.4707],\n",
    "        [-0.0197, -0.0386, -0.1021, -0.3287],\n",
    "        [ 0.1114,  0.0632, -0.0839,  0.3299],\n",
    "        [ 0.3358, -0.2219,  0.2871, -0.0726],\n",
    "        [ 0.3624,  0.4301, -0.2620, -0.3056],\n",
    "        [ 0.0958, -0.4143,  0.1365, -0.0373],\n",
    "        [-0.4620,  0.0714, -0.4247,  0.0248],\n",
    "        [ 0.0330, -0.2530,  0.3441,  0.1409],\n",
    "        [ 0.1642,  0.3770,  0.2618, -0.3784],\n",
    "        [-0.0522,  0.1938, -0.0871, -0.1961],\n",
    "        [-0.2112,  0.4974,  0.2368, -0.1381],\n",
    "        [-0.2156,  0.3389,  0.4764, -0.3926],\n",
    "        [ 0.2360,  0.0343,  0.0133,  0.2427],\n",
    "        [-0.0476, -0.1736, -0.2573, -0.0404],\n",
    "        [ 0.3317,  0.3709, -0.4510,  0.1788],\n",
    "        [-0.3951,  0.3671,  0.1167,  0.0812],\n",
    "        [ 0.4517,  0.4189,  0.4040, -0.0425],\n",
    "        [-0.2620, -0.0349, -0.3979,  0.0479]], device='cuda:0',\n",
    "       requires_grad=True)\n",
    "----------dqn-------------\n",
    "Parameter containing:\n",
    "tensor([ 0.3498, -0.0831,  0.1124, -0.0330,  0.2567, -0.2597, -0.1060,  0.4991,\n",
    "        -0.3214, -0.0376,  0.1448, -0.3316,  0.1408,  0.2037, -0.0100,  0.2024,\n",
    "         0.2366, -0.3540, -0.4622,  0.0452, -0.0548, -0.0910, -0.2801,  0.2807,\n",
    "         0.4093,  0.3655, -0.0181,  0.0905,  0.2313, -0.1205,  0.1457,  0.1230],\n",
    "       device='cuda:0', requires_grad=True)\n",
    "----------dqn-------------\n",
    "Parameter containing:\n",
    "tensor([[ 0.1450,  0.0213,  0.1085,  ...,  0.0585, -0.1223,  0.1546],\n",
    "        [ 0.0585,  0.0638, -0.0407,  ..., -0.0676, -0.0122,  0.0808],\n",
    "        [ 0.0671,  0.0349,  0.0512,  ..., -0.0134, -0.1033, -0.1486],\n",
    "        ...,\n",
    "        [ 0.1698,  0.1497,  0.1247,  ..., -0.1612, -0.1097, -0.1735],\n",
    "        [-0.1409, -0.0796, -0.0548,  ...,  0.0655, -0.1578, -0.0249],\n",
    "        [-0.1525, -0.1516, -0.1395,  ...,  0.0931,  0.0942, -0.1504]],\n",
    "       device='cuda:0', requires_grad=True)\n",
    "----------dqn-------------\n",
    "Parameter containing:\n",
    "tensor([-0.0896,  0.1731,  0.1258, -0.1526, -0.0644, -0.0827,  0.0103,  0.0045,\n",
    "         0.0941,  0.1446, -0.0120, -0.1058, -0.1436,  0.1336,  0.1250,  0.0687,\n",
    "        -0.0911,  0.0465, -0.1237, -0.0744,  0.0490, -0.1730,  0.1460, -0.1512,\n",
    "         0.1800, -0.1251,  0.0855, -0.1478, -0.1214,  0.0160, -0.1042,  0.0308],\n",
    "       device='cuda:0', requires_grad=True)\n",
    "----------dqn-------------\n",
    "Parameter containing:\n",
    "tensor([[ 0.1709,  0.1019,  0.1696,  0.1410, -0.1051, -0.0829, -0.1218,  0.1628,\n",
    "         -0.1336,  0.0292,  0.0007,  0.0606,  0.1343,  0.1329,  0.1481,  0.0420,\n",
    "         -0.0324, -0.1071, -0.1300,  0.0373,  0.0617,  0.0900,  0.1416, -0.0814,\n",
    "          0.1526, -0.1337,  0.0545, -0.1137, -0.0348,  0.1262, -0.0137,  0.1047],\n",
    "        [ 0.1007, -0.0825, -0.1739, -0.1212,  0.1642, -0.0629, -0.0292, -0.1239,\n",
    "          0.1074, -0.0836,  0.0022,  0.0104,  0.1390, -0.1346, -0.1592, -0.0992,\n",
    "         -0.0089,  0.0905,  0.0640,  0.0572, -0.1628, -0.0070, -0.0623, -0.0299,\n",
    "          0.0466, -0.1764, -0.1246, -0.0235, -0.1544, -0.0339, -0.1554,  0.0255]],\n",
    "       device='cuda:0', requires_grad=True)\n",
    "----------dqn-------------\n",
    "Parameter containing:\n",
    "tensor([0.0375, 0.0868], device='cuda:0', requires_grad=True)\n",
    "----------pg--------------\n",
    "Parameter containing:\n",
    "tensor([[ 3.9382e-01, -5.0681e-01, -1.2069e-01,  4.7339e-01],\n",
    "        [-4.0152e-01, -4.7509e-01, -4.6195e-01,  4.0200e-01],\n",
    "        [ 1.4675e-01, -4.8349e-01, -1.8855e-01, -7.7609e-02],\n",
    "        [-4.1099e-01, -1.6511e-01, -3.1331e-01,  1.6884e-01],\n",
    "        [-4.7665e-02, -3.2505e-01,  3.8267e-01, -3.2064e-01],\n",
    "        [ 1.9595e-02,  1.5862e-01,  7.8843e-02,  3.7941e-01],\n",
    "        [ 2.7682e-01, -1.3329e-01,  1.6276e-01, -3.9447e-01],\n",
    "        [ 4.7546e-01, -2.8391e-01,  1.6287e-01,  5.7784e-02],\n",
    "        [ 1.7040e-01, -3.6625e-01,  4.7345e-01,  4.8701e-01],\n",
    "        [ 9.1821e-02,  3.7982e-01, -2.1419e-01, -1.1040e-01],\n",
    "        [-1.4499e-02,  1.3073e-01,  3.4494e-02,  6.7271e-02],\n",
    "        [-1.9910e-01, -2.6265e-01,  3.4962e-01,  3.5767e-01],\n",
    "        [-3.3509e-01,  1.2103e-01, -3.9841e-01,  3.4335e-01],\n",
    "        [-3.4106e-01,  1.8870e-01,  4.2595e-01,  4.2905e-01],\n",
    "        [-4.5450e-01, -2.3335e-04, -3.6084e-01, -4.0954e-01],\n",
    "        [ 5.4119e-02,  6.9540e-02, -3.0680e-01, -3.9180e-01],\n",
    "        [-4.5814e-01,  3.6012e-02, -4.3406e-01, -3.7319e-01],\n",
    "        [-1.8609e-01, -3.0642e-01,  3.2195e-01,  1.1821e-01],\n",
    "        [-3.4667e-01,  1.1242e-01, -1.3104e-01,  1.8356e-01],\n",
    "        [ 4.3875e-01, -5.0604e-01, -3.2872e-01,  2.2380e-01],\n",
    "        [-1.8223e-01,  5.9361e-02, -3.6877e-01, -3.9154e-01],\n",
    "        [ 4.8719e-01, -8.0991e-02,  3.1229e-01,  3.5551e-01],\n",
    "        [ 1.8421e-01,  2.9000e-01, -3.0810e-01, -4.2471e-01],\n",
    "        [ 4.5772e-01,  9.1303e-02,  4.3123e-01,  1.0425e-01],\n",
    "        [-3.3037e-01, -1.7153e-02,  3.2237e-01, -3.6655e-02],\n",
    "        [ 2.7126e-01,  2.7246e-01, -1.4789e-01, -4.9506e-02],\n",
    "        [-2.3359e-01, -3.2432e-02, -3.1184e-01, -5.3857e-03],\n",
    "        [-3.1926e-02,  3.2695e-01,  4.4897e-01,  4.1729e-01],\n",
    "        [-2.2670e-01,  3.6044e-01, -3.3023e-01, -1.4090e-02],\n",
    "        [-1.5482e-01,  2.1787e-01,  2.7631e-01,  4.4052e-01],\n",
    "        [-1.9023e-01, -2.1162e-01,  3.8099e-01,  2.5998e-01],\n",
    "        [ 4.0944e-01,  2.1071e-01,  1.1933e-01,  4.6251e-01]], device='cuda:0',\n",
    "       requires_grad=True)\n",
    "----------pg--------------\n",
    "Parameter containing:\n",
    "tensor([ 0.3258, -0.3294,  0.0673,  0.0214,  0.1503,  0.3488,  0.3755,  0.1124,\n",
    "        -0.4849, -0.2083, -0.0787, -0.4817, -0.1435,  0.2277, -0.0446, -0.1692,\n",
    "         0.3831,  0.2788,  0.0883, -0.0755, -0.2876, -0.4205,  0.2347,  0.2493,\n",
    "         0.3821,  0.4657, -0.4885, -0.3737, -0.3518, -0.3028, -0.4588, -0.0789],\n",
    "       device='cuda:0', requires_grad=True)\n",
    "----------pg--------------\n",
    "Parameter containing:\n",
    "tensor([[ 0.1722, -0.0834, -0.0370,  ..., -0.1218,  0.0141,  0.1486],\n",
    "        [-0.1196, -0.0421, -0.0641,  ..., -0.0071, -0.0771,  0.0066],\n",
    "        [-0.0794, -0.0741, -0.0986,  ...,  0.1329,  0.0255, -0.0841],\n",
    "        ...,\n",
    "        [ 0.1163, -0.1520, -0.1460,  ..., -0.0301, -0.0014, -0.0473],\n",
    "        [-0.1316, -0.1572, -0.0047,  ...,  0.0745, -0.0031, -0.0065],\n",
    "        [-0.0369,  0.0434, -0.0607,  ...,  0.1126,  0.0603,  0.1286]],\n",
    "       device='cuda:0', requires_grad=True)\n",
    "----------pg--------------\n",
    "Parameter containing:\n",
    "tensor([ 7.3763e-02, -1.0693e-01,  1.7569e-01,  1.2242e-01,  2.4545e-02,\n",
    "        -1.6175e-02,  1.2765e-01,  9.1377e-02, -3.2032e-02,  1.9053e-01,\n",
    "         1.2014e-01,  1.3001e-01, -1.5579e-01,  1.3526e-01, -1.4254e-02,\n",
    "         1.8920e-01, -5.2085e-02,  6.1126e-06, -1.4351e-01, -1.2913e-02,\n",
    "         4.5429e-02,  1.5714e-01, -6.5751e-02, -1.1217e-01, -1.5312e-01,\n",
    "        -9.7479e-02,  3.7904e-02, -1.3805e-01, -1.5927e-01, -1.7526e-01,\n",
    "         2.4373e-02, -3.3169e-02], device='cuda:0', requires_grad=True)\n",
    "----------pg--------------\n",
    "Parameter containing:\n",
    "tensor([[ 0.1737, -0.0753, -0.1575,  0.1792,  0.0603, -0.0799,  0.0699,  0.0538,\n",
    "          0.0007,  0.1108, -0.1210,  0.0803,  0.0688,  0.1826, -0.0070,  0.1354,\n",
    "         -0.0740,  0.1286,  0.1235, -0.0141, -0.1353,  0.0009,  0.0168, -0.0221,\n",
    "         -0.0306, -0.1087, -0.0602,  0.0318, -0.1809, -0.1664,  0.1766, -0.1320],\n",
    "        [ 0.0936,  0.1570, -0.1870, -0.1182, -0.1576, -0.1654,  0.1238,  0.0374,\n",
    "          0.0723, -0.1664, -0.0156,  0.1084, -0.1420, -0.1580,  0.0612,  0.0122,\n",
    "          0.0755, -0.0773, -0.1524, -0.1678, -0.1386,  0.1565, -0.1615,  0.1006,\n",
    "          0.0881, -0.0528, -0.0711, -0.1280,  0.0691,  0.0798,  0.0689, -0.0066]],\n",
    "       device='cuda:0', requires_grad=True)\n",
    "----------pg--------------\n",
    "Parameter containing:\n",
    "tensor([ 0.1937, -0.0502], device='cuda:0', requires_grad=True)"
   ]
  }
 ],
 "metadata": {
  "kernelspec": {
   "display_name": "Python 3 (ipykernel)",
   "language": "python",
   "name": "python3"
  },
  "language_info": {
   "codemirror_mode": {
    "name": "ipython",
    "version": 3
   },
   "file_extension": ".py",
   "mimetype": "text/x-python",
   "name": "python",
   "nbconvert_exporter": "python",
   "pygments_lexer": "ipython3",
   "version": "3.9.7"
  }
 },
 "nbformat": 4,
 "nbformat_minor": 5
}
