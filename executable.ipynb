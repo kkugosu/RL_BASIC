{
 "cells": [
  {
   "cell_type": "code",
   "execution_count": 1,
   "id": "e2e085b4",
   "metadata": {},
   "outputs": [
    {
     "name": "stderr",
     "output_type": "stream",
     "text": [
      "/home/jongsu/anaconda3/lib/python3.9/site-packages/torchvision/io/image.py:11: UserWarning: Failed to load image Python extension: libtorch_cuda_cu.so: cannot open shared object file: No such file or directory\n",
      "  warn(f\"Failed to load image Python extension: {e}\")\n"
     ]
    },
    {
     "name": "stdout",
     "output_type": "stream",
     "text": [
      "enter envname, {cartpole as cart, hoppper as hope}\n",
      "->hope\n",
      "enter RL control, {PG, DQN, ...}\n",
      "->DQN\n",
      "enter batchsize\n",
      "->1000\n",
      "enter memory capacity\n",
      "->1000\n",
      "train iter will be 10.0\n",
      "enter HIDDEN_SIZE\n",
      "->32\n",
      "enter learning rate\n",
      "->0.001\n"
     ]
    }
   ],
   "source": [
    "from varname import nameof\n",
    "import gym\n",
    "from control import DQN,PG\n",
    "\n",
    "if __name__ == \"__main__\":\n",
    "    \n",
    "    BATCH_SIZE = 10000\n",
    "    CAPACITY = 10000\n",
    "    HIDDEN_SIZE = 32\n",
    "    learning_rate = 0.01\n",
    "    \n",
    "    def getinteger(integer):\n",
    "        valid = 0\n",
    "        while valid == 0:\n",
    "            integer = input(\"->\")\n",
    "            try: \n",
    "                int(integer)\n",
    "                if float(integer).is_integer() == True:\n",
    "                    valid = 1\n",
    "                    return int(integer)\n",
    "                else:\n",
    "                    print(\"enter integer\")\n",
    "            except ValueError:\n",
    "                print(\"enter integer\")\n",
    "\n",
    "    def getfloat(float_):\n",
    "        valid = 0\n",
    "        while valid == 0:\n",
    "            float_ = input(\"->\")\n",
    "            try: \n",
    "                float(float_)\n",
    "                valid = 1\n",
    "                return float(float_)\n",
    "            except ValueError:\n",
    "                print(\"enter float\")\n",
    "                \n",
    "    valid = 0\n",
    "    while valid == 0:\n",
    "        print(\"enter envname, {cartpole as cart, hoppper as hope}\")\n",
    "        envname = input(\"->\")\n",
    "        if envname == \"cart\": \n",
    "            valid = 1\n",
    "        elif envname == \"hope\":\n",
    "            valid = 1\n",
    "        else:\n",
    "            print(\"error\")\n",
    "            \n",
    "    valid = 0\n",
    "    while valid == 0:\n",
    "        print(\"enter RL control, {PG, DQN, ...}\")\n",
    "        control = input(\"->\")\n",
    "        if control == \"PG\":  \n",
    "            valid = 1\n",
    "        elif control == \"DQN\":\n",
    "            valid = 1\n",
    "        else:\n",
    "            print(\"error\")\n",
    "    \n",
    "    print(\"enter batchsize\")\n",
    "    BATCH_SIZE = getinteger(BATCH_SIZE)\n",
    "\n",
    "    print(\"enter memory capacity\")\n",
    "    CAPACITY = getinteger(CAPACITY)\n",
    "\n",
    "    TRAIN_ITER = CAPACITY*10/BATCH_SIZE\n",
    "    print(\"train iter will be\", TRAIN_ITER )\n",
    "\n",
    "    print(\"enter HIDDEN_SIZE\")\n",
    "    HIDDEN_SIZE = getinteger(HIDDEN_SIZE)\n",
    "\n",
    "    print(\"enter learning rate\")\n",
    "    learning_rate = getfloat(learning_rate)\n",
    "    \n",
    "    "
   ]
  },
  {
   "cell_type": "code",
   "execution_count": 2,
   "id": "ef334c1e",
   "metadata": {},
   "outputs": [
    {
     "name": "stdout",
     "output_type": "stream",
     "text": [
      "parameter path is Parameter/hopeDQN.pth\n",
      "tmp parameter path is Parameter/hopeDQN_test.pth\n",
      "STATE_SIZE(input) =  11\n",
      "ACTION_SIZE(output) =  125\n"
     ]
    }
   ],
   "source": [
    "my_dqn = DQN.DQNPolicy(BATCH_SIZE, CAPACITY, HIDDEN_SIZE, \n",
    "                       learning_rate, TRAIN_ITER, control, envname)"
   ]
  },
  {
   "cell_type": "code",
   "execution_count": 3,
   "id": "a5efb0a9",
   "metadata": {},
   "outputs": [],
   "source": [
    "my_dqn.training()"
   ]
  },
  {
   "cell_type": "code",
   "execution_count": null,
   "id": "8d83ac36",
   "metadata": {},
   "outputs": [],
   "source": []
  }
 ],
 "metadata": {
  "kernelspec": {
   "display_name": "Python 3 (ipykernel)",
   "language": "python",
   "name": "python3"
  },
  "language_info": {
   "codemirror_mode": {
    "name": "ipython",
    "version": 3
   },
   "file_extension": ".py",
   "mimetype": "text/x-python",
   "name": "python",
   "nbconvert_exporter": "python",
   "pygments_lexer": "ipython3",
   "version": "3.9.7"
  }
 },
 "nbformat": 4,
 "nbformat_minor": 5
}
