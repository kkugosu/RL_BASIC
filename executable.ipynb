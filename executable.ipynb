{
 "cells": [
  {
   "cell_type": "code",
   "execution_count": 5,
   "id": "e2e085b4",
   "metadata": {},
   "outputs": [
    {
     "name": "stdout",
     "output_type": "stream",
     "text": [
      "enter envname, {cartpole as cart, hoppper as hope}\n",
      "->cart\n",
      "enter RL mechanism, {PG, DQN, ...}\n",
      "->PG\n",
      "parameter path is PG_param/cartPG.pth\n",
      "tmp parameter path is PG_param/cartPG_test.pth\n"
     ]
    }
   ],
   "source": [
    "from varname import nameof\n",
    "import gym\n",
    "if __name__ == \"__main__\":\n",
    "    \n",
    "    valid = 0\n",
    "    while valid == 0:\n",
    "        print(\"enter envname, {cartpole as cart, hoppper as hope}\")\n",
    "        envname = input(\"->\")\n",
    "        if envname == \"cart\": \n",
    "            env = gym.make('CartPole-v1') \n",
    "            valid = 1\n",
    "        elif envname == \"hope\":\n",
    "            env = gym.make('Hopper-v3') \n",
    "            valid = 1\n",
    "        else:\n",
    "            print(\"error\")\n",
    "            \n",
    "    valid = 0\n",
    "    while valid == 0:\n",
    "        print(\"enter RL control, {PG, DQN, ...}\")\n",
    "        control = input(\"->\")\n",
    "        if control == \"PG\":  \n",
    "            valid = 1\n",
    "        elif control == \"DQN\":\n",
    "            valid = 1\n",
    "        else:\n",
    "            print(\"error\")\n",
    "            \n",
    "    PARAM_PATH = control + '_param/' + envname + control + '.pth'\n",
    "    print(\"parameter path is \" + PARAM_PATH)\n",
    "    \n",
    "    PARAM_PATH_TEST = control + '_param/' + envname + control + '_test.pth'\n",
    "    print(\"tmp parameter path is \" + PARAM_PATH_TEST)\n",
    "    \n",
    "    def getinteger(integer):\n",
    "        valid = 0\n",
    "        while valid == 0:\n",
    "            integer = input(\"->\")\n",
    "            try: \n",
    "                int(integer)\n",
    "                if float(integer).is_integer() == True:\n",
    "                    valid = 1\n",
    "                    return int(integer)\n",
    "                else:\n",
    "                    print(\"enter integer\")\n",
    "            except ValueError:\n",
    "                print(\"enter integer\")\n",
    "\n",
    "    def getfloat(float_):\n",
    "        valid = 0\n",
    "        while valid == 0:\n",
    "            float_ = input(\"->\")\n",
    "            try: \n",
    "                float(float_)\n",
    "                valid = 1\n",
    "                return float(float_)\n",
    "            except ValueError:\n",
    "                print(\"enter float\")\n",
    "    \n",
    "                \n",
    "    \n",
    "    "
   ]
  },
  {
   "cell_type": "code",
   "execution_count": 2,
   "id": "02cf0da2",
   "metadata": {},
   "outputs": [
    {
     "name": "stdout",
     "output_type": "stream",
     "text": [
      "enter batchsize\n",
      "->10\n",
      "<class 'int'>\n",
      "enter memory capacity\n",
      "->10000\n",
      "train iter will be 10000.0\n",
      "enter HIDDEN_SIZE\n",
      "->32\n",
      "network output number of cases of action will be 125 \n",
      "enter learning rate\n",
      "->0.01\n"
     ]
    }
   ],
   "source": [
    "    BATCH_SIZE = 10000\n",
    "    CAPACITY = 10000\n",
    "\n",
    "    HOP_ACTION = 125\n",
    "    CART_ACTION = 2\n",
    "    HIDDEN_SIZE = 32\n",
    "    learning_rate = 0.01\n",
    "\n",
    "    print(\"enter batchsize\")\n",
    "    BATCH_SIZE = getinteger(BATCH_SIZE)\n",
    "\n",
    "    print(\"enter memory capacity\")\n",
    "    CAPACITY = getinteger(CAPACITY)\n",
    "\n",
    "    TRAIN_ITER = CAPACITY*10/BATCH_SIZE\n",
    "    print(\"train iter will be\", TRAIN_ITER )\n",
    "\n",
    "    print(\"enter HIDDEN_SIZE\")\n",
    "    HIDDEN_SIZE = getinteger(HIDDEN_SIZE)\n",
    "\n",
    "    state_size = len(env.observation_space.sample())\n",
    "    print(\"STATE_SIZE(input) = \", state_size)\n",
    "\n",
    "    if env_name == \"cart\":\n",
    "        action_size = CART_ACTION\n",
    "    else:\n",
    "        action_size = HOP_ACTION\n",
    "    print(\"ACTION_SIZE(output) = \", action_size)\n",
    "\n",
    "    print(\"network output number of cases of action will be 125 \")\n",
    "    print(\"enter learning rate\")\n",
    "    learning_rate = getfloat(learning_rate)"
   ]
  },
  {
   "cell_type": "code",
   "execution_count": 6,
   "id": "ef334c1e",
   "metadata": {},
   "outputs": [
    {
     "name": "stdout",
     "output_type": "stream",
     "text": [
      "STATE_SIZE =  4\n"
     ]
    }
   ],
   "source": []
  },
  {
   "cell_type": "code",
   "execution_count": null,
   "id": "a5efb0a9",
   "metadata": {},
   "outputs": [],
   "source": []
  }
 ],
 "metadata": {
  "kernelspec": {
   "display_name": "Python 3 (ipykernel)",
   "language": "python",
   "name": "python3"
  },
  "language_info": {
   "codemirror_mode": {
    "name": "ipython",
    "version": 3
   },
   "file_extension": ".py",
   "mimetype": "text/x-python",
   "name": "python",
   "nbconvert_exporter": "python",
   "pygments_lexer": "ipython3",
   "version": "3.9.12"
  }
 },
 "nbformat": 4,
 "nbformat_minor": 5
}
