{
 "cells": [
  {
   "cell_type": "code",
   "execution_count": 7,
   "id": "05b33eed",
   "metadata": {},
   "outputs": [],
   "source": [
    "import gym\n",
    "import torch\n",
    "import numpy as np\n",
    "from torch import nn\n",
    "from torch.utils.tensorboard import SummaryWriter\n",
    "writer = SummaryWriter('RLresult/hopper/dqn')\n",
    "device = 'cuda' if torch.cuda.is_available() else 'cpu'"
   ]
  },
  {
   "cell_type": "code",
   "execution_count": 3,
   "id": "9f6f0923",
   "metadata": {},
   "outputs": [
    {
     "name": "stdout",
     "output_type": "stream",
     "text": [
      "Box([-1. -1. -1.], [1. 1. 1.], (3,), float32)\n",
      "Box([-inf -inf -inf -inf -inf -inf -inf -inf -inf -inf -inf], [inf inf inf inf inf inf inf inf inf inf inf], (11,), float64)\n"
     ]
    }
   ],
   "source": [
    "env = gym.make('Hopper-v3') \n",
    "print(env.action_space)\n",
    "print(env.observation_space)"
   ]
  },
  {
   "cell_type": "code",
   "execution_count": 4,
   "id": "b4cbc470",
   "metadata": {},
   "outputs": [],
   "source": [
    "HIDDEN_SIZE = 32\n",
    "BATCH_SIZE = 10000\n",
    "learning_rate = 0.01\n",
    "HOP_ACTION = 125\n",
    "CAPACITY = 10000\n",
    "TRAIN_ITER = CAPACITY*10/BATCH_SIZE\n",
    "PARAM_PATH = 'DQN_param/hopperDQN.pth'\n",
    "PARAM_PATH_TEST = 'DQN_param/hopperDQN_test.pth'\n",
    "#print(Transition(2,1,2,3))\n",
    "#Transition(state=2, action=1, next_state=2, reward=3)"
   ]
  },
  {
   "cell_type": "code",
   "execution_count": 5,
   "id": "28fb2fe9",
   "metadata": {},
   "outputs": [
    {
     "name": "stdout",
     "output_type": "stream",
     "text": [
      "[-0.56629454 -3.84583097  0.64303238  0.01604773  1.35994578 -0.00550272\n",
      "  0.67045608  0.80721827 -1.49249697  0.266348   -0.09017813]\n"
     ]
    }
   ],
   "source": [
    "print(env.observation_space.sample())"
   ]
  },
  {
   "cell_type": "code",
   "execution_count": 8,
   "id": "bdfe0e62",
   "metadata": {},
   "outputs": [],
   "source": [
    "input_state_size = len(env.observation_space.sample())\n",
    "\n",
    "class DQN(nn.Module):\n",
    "\n",
    "    def __init__(self, input_size, hidden_size, output_size):\n",
    "        super(DQN, self).__init__()\n",
    "        # self.flatten = nn.Flatten()\n",
    "        self.linear_relu_stack = nn.Sequential(\n",
    "            nn.Linear(input_size, hidden_size),\n",
    "            nn.ReLU(),\n",
    "            nn.Linear(hidden_size, hidden_size),\n",
    "            nn.ReLU(),\n",
    "            nn.Linear(hidden_size, output_size),\n",
    "            nn.ReLU()\n",
    "        )\n",
    "\n",
    "    def forward(self, input_element):\n",
    "        output = self.linear_relu_stack(input_element)\n",
    "        return output\n",
    "\n",
    "\n",
    "updatedDQN = DQN(input_state_size, HIDDEN_SIZE, HOP_ACTION).to(device)\n",
    "baseDQN = DQN(input_state_size, HIDDEN_SIZE, HOP_ACTION).to(device)\n",
    "\n"
   ]
  },
  {
   "cell_type": "code",
   "execution_count": 10,
   "id": "22d76a3b",
   "metadata": {},
   "outputs": [
    {
     "data": {
      "text/plain": [
       "<All keys matched successfully>"
      ]
     },
     "execution_count": 10,
     "metadata": {},
     "output_type": "execute_result"
    }
   ],
   "source": [
    "updatedDQN.load_state_dict(torch.load(PARAM_PATH))\n",
    "baseDQN.load_state_dict(updatedDQN.state_dict())"
   ]
  },
  {
   "cell_type": "code",
   "execution_count": 15,
   "id": "c250e371",
   "metadata": {},
   "outputs": [],
   "source": [
    "class fortest(nn.Module):\n",
    "\n",
    "    def __init__(self, input_size, hidden_size, output_size):\n",
    "        super(DQN, self).__init__()\n",
    "        # self.flatten = nn.Flatten()\n",
    "        self.linear_relu_stack = nn.Sequential(\n",
    "            nn.Linear(input_size, hidden_size),\n",
    "            nn.ReLU(),\n",
    "            nn.Linear(hidden_size, hidden_size),\n",
    "            nn.ReLU(),\n",
    "            nn.Linear(hidden_size, output_size),\n",
    "            nn.ReLU()\n",
    "        )\n",
    "\n",
    "    def forward(self, input_element):\n",
    "        output = self.linear_relu_stack(input_element)\n",
    "        return output\n",
    "    \n"
   ]
  },
  {
   "cell_type": "code",
   "execution_count": 18,
   "id": "dc600880",
   "metadata": {},
   "outputs": [
    {
     "ename": "SyntaxError",
     "evalue": "invalid syntax (2056349174.py, line 1)",
     "output_type": "error",
     "traceback": [
      "\u001b[0;36m  File \u001b[0;32m\"/tmp/ipykernel_2659/2056349174.py\"\u001b[0;36m, line \u001b[0;32m1\u001b[0m\n\u001b[0;31m    @torch.no_grad():\u001b[0m\n\u001b[0m                    ^\u001b[0m\n\u001b[0;31mSyntaxError\u001b[0m\u001b[0;31m:\u001b[0m invalid syntax\n"
     ]
    }
   ],
   "source": [
    "\n"
   ]
  },
  {
   "cell_type": "code",
   "execution_count": 5,
   "id": "d203c0f3",
   "metadata": {},
   "outputs": [
    {
     "data": {
      "text/plain": [
       "(3,)"
      ]
     },
     "execution_count": 5,
     "metadata": {},
     "output_type": "execute_result"
    }
   ],
   "source": [
    "import random\n",
    "import numpy as np\n",
    "np.shape(random.sample(list(range(5)),3))"
   ]
  },
  {
   "cell_type": "code",
   "execution_count": 7,
   "id": "225bf7c3",
   "metadata": {},
   "outputs": [
    {
     "data": {
      "text/plain": [
       "[0, 1, 2, 3, 4]"
      ]
     },
     "execution_count": 7,
     "metadata": {},
     "output_type": "execute_result"
    }
   ],
   "source": [
    "[i for i in range(5)]"
   ]
  },
  {
   "cell_type": "code",
   "execution_count": 11,
   "id": "bec380b2",
   "metadata": {},
   "outputs": [],
   "source": [
    "import numpy as np\n",
    "import random\n",
    "from collections import namedtuple, deque\n",
    "from torch.utils.data import Dataset\n",
    "\n",
    "Transition = namedtuple('Transition', ('state', 'action', 'next_state', 'reward', 'done'))\n",
    "\n",
    "\n",
    "class EnvData(Dataset):\n",
    "    \n",
    "    def __init__(self, capacity):\n",
    "        self.memory = deque([], maxlen=capacity)\n",
    "\n",
    "    def __getitem__(self, idx):\n",
    "        return self.memory[idx]\n",
    "\n",
    "    def __len__(self):\n",
    "        return len(self.memory)\n",
    "\n",
    "    def push(self, *args):\n",
    "        self.memory.append(Transition(*args))\n",
    "\n",
    "\n",
    "class CustomDataLoader:\n",
    "\n",
    "    def __init__(self, dataset, batch_size, suffle):\n",
    "        self.dataset = dataset\n",
    "        self.batch_size = batch_size\n",
    "        self.num_category = len(self.dataset[0])\n",
    "        self.suffle = suffle\n",
    "        self.iternum = 0\n",
    "\n",
    "    def __iter__(self):\n",
    "        return self\n",
    "\n",
    "    def __next__(self):\n",
    "        if self.suffle == True:\n",
    "            index = random.sample(list(range(len(self.dataset))), self.batch_size)\n",
    "        else:\n",
    "            index = [i + self.iternum * self.batch_size for i in range(self.batch_size)]\n",
    "        _batchdata = np.array(self.dataset[index[0]], dtype=np.object)\n",
    "        _cnum = 0\n",
    "        while _cnum < self.num_category:\n",
    "            i = 0\n",
    "            i = i + 1\n",
    "            _batchdata[_cnum] = np.array([_batchdata[_cnum]])\n",
    "            while i < self.batch_size:\n",
    "                added_data = np.array([self.dataset[index[i]][_cnum]])\n",
    "                _batchdata[_cnum] = np.concatenate((_batchdata[_cnum], added_data), axis=0)\n",
    "                i = i + 1\n",
    "            _cnum = _cnum + 1\n",
    "        self.iternum = self.iternum + 1\n",
    "        if (self.iternum + 1) * self.batch_size > len(self.dataset):\n",
    "            self.iternum = 0\n",
    "        return _batchdata\n",
    "\n"
   ]
  },
  {
   "cell_type": "code",
   "execution_count": 21,
   "id": "004aa721",
   "metadata": {},
   "outputs": [
    {
     "name": "stdout",
     "output_type": "stream",
     "text": [
      "Transition(state=1, action=2, next_state=3, reward=4, done=5.0)\n"
     ]
    }
   ],
   "source": [
    "    \n",
    "mycartdata = EnvData(capacity = 3)\n",
    "#\n",
    "np_pre_observation = 1\n",
    "action = 2\n",
    "observation = 3\n",
    "reward = 4\n",
    "done = 5\n",
    "mycartdata.push(np_pre_observation, action, observation, reward, np.float32(done))\n",
    "mycartdata.push(np_pre_observation, action, observation, reward, np.float32(done))\n",
    "mycartdata.push(np_pre_observation, action, observation, reward, np.float32(done))\n",
    "np_pre_observation = 1\n",
    "action = 2\n",
    "observation = 3\n",
    "reward = 4\n",
    "done = 6\n",
    "\n",
    "mycartdata.push(np_pre_observation, action, observation, reward, np.float32(done))\n",
    "print(mycartdata[1])"
   ]
  },
  {
   "cell_type": "code",
   "execution_count": 8,
   "id": "f12fa603",
   "metadata": {},
   "outputs": [
    {
     "name": "stdout",
     "output_type": "stream",
     "text": [
      "Transition(state=1, action=2, next_state=3, reward=4, done=6.0)\n"
     ]
    }
   ],
   "source": [
    "print(mycartdata[2])"
   ]
  },
  {
   "cell_type": "code",
   "execution_count": 22,
   "id": "7390d74d",
   "metadata": {},
   "outputs": [],
   "source": [
    "mydataloader = CustomDataLoader(mycartdata, batch_size=1, suffle = False)"
   ]
  },
  {
   "cell_type": "code",
   "execution_count": 13,
   "id": "d3920e83",
   "metadata": {},
   "outputs": [
    {
     "name": "stderr",
     "output_type": "stream",
     "text": [
      "/tmp/ipykernel_2800/3085157848.py:41: DeprecationWarning: `np.object` is a deprecated alias for the builtin `object`. To silence this warning, use `object` by itself. Doing this will not modify any behavior and is safe. \n",
      "Deprecated in NumPy 1.20; for more details and guidance: https://numpy.org/devdocs/release/1.20.0-notes.html#deprecations\n",
      "  _batchdata = np.array(self.dataset[index[0]], dtype=np.object)\n"
     ]
    },
    {
     "data": {
      "text/plain": [
       "array([array([1, 1]), array([2, 2]), array([3, 3]), array([4, 4]),\n",
       "       array([5., 5.], dtype=float32)], dtype=object)"
      ]
     },
     "execution_count": 13,
     "metadata": {},
     "output_type": "execute_result"
    }
   ],
   "source": [
    "next(iter(mydataloader))"
   ]
  },
  {
   "cell_type": "code",
   "execution_count": 14,
   "id": "3d673e65",
   "metadata": {},
   "outputs": [
    {
     "name": "stderr",
     "output_type": "stream",
     "text": [
      "/tmp/ipykernel_2800/3085157848.py:41: DeprecationWarning: `np.object` is a deprecated alias for the builtin `object`. To silence this warning, use `object` by itself. Doing this will not modify any behavior and is safe. \n",
      "Deprecated in NumPy 1.20; for more details and guidance: https://numpy.org/devdocs/release/1.20.0-notes.html#deprecations\n",
      "  _batchdata = np.array(self.dataset[index[0]], dtype=np.object)\n"
     ]
    },
    {
     "data": {
      "text/plain": [
       "array([array([1, 1]), array([2, 2]), array([3, 3]), array([4, 4]),\n",
       "       array([5., 5.], dtype=float32)], dtype=object)"
      ]
     },
     "execution_count": 14,
     "metadata": {},
     "output_type": "execute_result"
    }
   ],
   "source": [
    "next(iter(mydataloader))"
   ]
  },
  {
   "cell_type": "code",
   "execution_count": 15,
   "id": "661d80d8",
   "metadata": {},
   "outputs": [
    {
     "name": "stderr",
     "output_type": "stream",
     "text": [
      "/tmp/ipykernel_2800/3085157848.py:41: DeprecationWarning: `np.object` is a deprecated alias for the builtin `object`. To silence this warning, use `object` by itself. Doing this will not modify any behavior and is safe. \n",
      "Deprecated in NumPy 1.20; for more details and guidance: https://numpy.org/devdocs/release/1.20.0-notes.html#deprecations\n",
      "  _batchdata = np.array(self.dataset[index[0]], dtype=np.object)\n"
     ]
    },
    {
     "data": {
      "text/plain": [
       "array([array([1, 1]), array([2, 2]), array([3, 3]), array([4, 4]),\n",
       "       array([5., 5.], dtype=float32)], dtype=object)"
      ]
     },
     "execution_count": 15,
     "metadata": {},
     "output_type": "execute_result"
    }
   ],
   "source": [
    "next(iter(mydataloader))"
   ]
  },
  {
   "cell_type": "code",
   "execution_count": 23,
   "id": "462dbc35",
   "metadata": {},
   "outputs": [
    {
     "name": "stdout",
     "output_type": "stream",
     "text": [
      "[array([1]) array([2]) array([3]) array([4]) array([5.], dtype=float32)]\n",
      "[array([1]) array([2]) array([3]) array([4]) array([5.], dtype=float32)]\n",
      "[array([1]) array([2]) array([3]) array([4]) array([6.], dtype=float32)]\n",
      "[array([1]) array([2]) array([3]) array([4]) array([5.], dtype=float32)]\n",
      "[array([1]) array([2]) array([3]) array([4]) array([5.], dtype=float32)]\n",
      "[array([1]) array([2]) array([3]) array([4]) array([6.], dtype=float32)]\n",
      "[array([1]) array([2]) array([3]) array([4]) array([5.], dtype=float32)]\n",
      "[array([1]) array([2]) array([3]) array([4]) array([5.], dtype=float32)]\n",
      "[array([1]) array([2]) array([3]) array([4]) array([6.], dtype=float32)]\n",
      "[array([1]) array([2]) array([3]) array([4]) array([5.], dtype=float32)]\n"
     ]
    },
    {
     "name": "stderr",
     "output_type": "stream",
     "text": [
      "/tmp/ipykernel_2800/3085157848.py:41: DeprecationWarning: `np.object` is a deprecated alias for the builtin `object`. To silence this warning, use `object` by itself. Doing this will not modify any behavior and is safe. \n",
      "Deprecated in NumPy 1.20; for more details and guidance: https://numpy.org/devdocs/release/1.20.0-notes.html#deprecations\n",
      "  _batchdata = np.array(self.dataset[index[0]], dtype=np.object)\n"
     ]
    }
   ],
   "source": [
    "i = 0\n",
    "while(i < 10):\n",
    "    print(next(iter(mydataloader)))\n",
    "    i = i + 1"
   ]
  },
  {
   "cell_type": "code",
   "execution_count": 17,
   "id": "d813e1fd",
   "metadata": {},
   "outputs": [],
   "source": [
    "mycartdata.push(np_pre_observation, action, observation, reward, np.float32(done))\n",
    "mycartdata.push(np_pre_observation, action, observation, reward, np.float32(done))"
   ]
  },
  {
   "cell_type": "code",
   "execution_count": 18,
   "id": "a0e8186b",
   "metadata": {},
   "outputs": [
    {
     "name": "stdout",
     "output_type": "stream",
     "text": [
      "Transition(state=1, action=2, next_state=3, reward=4, done=6.0)\n"
     ]
    }
   ],
   "source": [
    "print(mycartdata[1])"
   ]
  },
  {
   "cell_type": "code",
   "execution_count": 19,
   "id": "2bd6dbe0",
   "metadata": {},
   "outputs": [
    {
     "name": "stdout",
     "output_type": "stream",
     "text": [
      "[array([1, 1]) array([2, 2]) array([3, 3]) array([4, 4])\n",
      " array([6., 6.], dtype=float32)]\n",
      "[array([1, 1]) array([2, 2]) array([3, 3]) array([4, 4])\n",
      " array([6., 6.], dtype=float32)]\n",
      "[array([1, 1]) array([2, 2]) array([3, 3]) array([4, 4])\n",
      " array([6., 6.], dtype=float32)]\n",
      "[array([1, 1]) array([2, 2]) array([3, 3]) array([4, 4])\n",
      " array([6., 6.], dtype=float32)]\n",
      "[array([1, 1]) array([2, 2]) array([3, 3]) array([4, 4])\n",
      " array([6., 6.], dtype=float32)]\n",
      "[array([1, 1]) array([2, 2]) array([3, 3]) array([4, 4])\n",
      " array([6., 6.], dtype=float32)]\n",
      "[array([1, 1]) array([2, 2]) array([3, 3]) array([4, 4])\n",
      " array([6., 6.], dtype=float32)]\n",
      "[array([1, 1]) array([2, 2]) array([3, 3]) array([4, 4])\n",
      " array([6., 6.], dtype=float32)]\n",
      "[array([1, 1]) array([2, 2]) array([3, 3]) array([4, 4])\n",
      " array([6., 6.], dtype=float32)]\n",
      "[array([1, 1]) array([2, 2]) array([3, 3]) array([4, 4])\n",
      " array([6., 6.], dtype=float32)]\n"
     ]
    },
    {
     "name": "stderr",
     "output_type": "stream",
     "text": [
      "/tmp/ipykernel_2800/3085157848.py:41: DeprecationWarning: `np.object` is a deprecated alias for the builtin `object`. To silence this warning, use `object` by itself. Doing this will not modify any behavior and is safe. \n",
      "Deprecated in NumPy 1.20; for more details and guidance: https://numpy.org/devdocs/release/1.20.0-notes.html#deprecations\n",
      "  _batchdata = np.array(self.dataset[index[0]], dtype=np.object)\n"
     ]
    }
   ],
   "source": [
    "i = 0\n",
    "while(i < 10):\n",
    "    print(next(iter(mydataloader)))\n",
    "    i = i + 1"
   ]
  },
  {
   "cell_type": "code",
   "execution_count": 24,
   "id": "69ee0bc3",
   "metadata": {},
   "outputs": [
    {
     "data": {
      "text/plain": [
       "3"
      ]
     },
     "execution_count": 24,
     "metadata": {},
     "output_type": "execute_result"
    }
   ],
   "source": [
    "len(mycartdata)"
   ]
  },
  {
   "cell_type": "code",
   "execution_count": 28,
   "id": "6045c192",
   "metadata": {},
   "outputs": [
    {
     "name": "stdout",
     "output_type": "stream",
     "text": [
      "0\n",
      "1\n",
      "2\n",
      "p= 0\n",
      "0\n",
      "1\n",
      "p= 2\n"
     ]
    }
   ],
   "source": [
    "total_num = 0\n",
    "pause = 0\n",
    "memory_capacity = 5\n",
    "while total_num < memory_capacity - pause:\n",
    "    t = 0\n",
    "    while t < memory_capacity - total_num: #if pg, gain accumulate\n",
    "        print(t)\n",
    "        t = t + 1\n",
    "        if t==3:\n",
    "            total_num += t\n",
    "            t = 0\n",
    "            break\n",
    "    pause = t\n",
    "    print(\"p=\",pause)"
   ]
  },
  {
   "cell_type": "code",
   "execution_count": null,
   "id": "6272a7c1",
   "metadata": {},
   "outputs": [],
   "source": []
  }
 ],
 "metadata": {
  "kernelspec": {
   "display_name": "Python 3 (ipykernel)",
   "language": "python",
   "name": "python3"
  },
  "language_info": {
   "codemirror_mode": {
    "name": "ipython",
    "version": 3
   },
   "file_extension": ".py",
   "mimetype": "text/x-python",
   "name": "python",
   "nbconvert_exporter": "python",
   "pygments_lexer": "ipython3",
   "version": "3.9.7"
  }
 },
 "nbformat": 4,
 "nbformat_minor": 5
}
